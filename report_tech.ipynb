{
 "cells": [
  {
   "cell_type": "code",
   "execution_count": 1,
   "id": "cd59ee1f-ccea-42d4-aa99-9b3f2b67cb4f",
   "metadata": {},
   "outputs": [],
   "source": [
    "# Import Dependencies\n",
    "import sys\n",
    "import platform\n",
    "\n",
    "import pandas as pd\n",
    "import numpy as np\n",
    "\n",
    "\n",
    "import sklearn as sk\n",
    "import tensorflow as tf\n",
    "from tensorflow import keras\n",
    "import tensorflow.keras\n",
    "\n",
    "gpu = len(tf.config.list_physical_devices('GPU'))>0\n",
    "\n",
    "import warnings\n",
    "warnings.filterwarnings('ignore')"
   ]
  },
  {
   "cell_type": "code",
   "execution_count": 2,
   "id": "cb69447d-7a03-4772-a8a2-f8c0ddb5ffa2",
   "metadata": {},
   "outputs": [
    {
     "name": "stdout",
     "output_type": "stream",
     "text": [
      "Python Platform: macOS-13.0.1-arm64-arm-64bit\n",
      "Tensor Flow Version: 2.10.0\n",
      "Keras Version: 2.10.0\n",
      "\n",
      "Python 3.9.13 | packaged by conda-forge | (main, May 27 2022, 17:01:00) \n",
      "[Clang 13.0.1 ]\n",
      "Pandas 1.5.1\n",
      "Scikit-Learn 1.1.3\n",
      "GPU is available\n"
     ]
    }
   ],
   "source": [
    "# Report Technologies\n",
    "print(f'Python Platform: {platform.platform()}')\n",
    "print(f'Tensor Flow Version: {tf.__version__}')\n",
    "print(f'Keras Version: {tensorflow.keras.__version__}')\n",
    "print()\n",
    "print(f'Python {sys.version}')\n",
    "print(f'Pandas {pd.__version__}')\n",
    "print(f'Scikit-Learn {sk.__version__}')\n",
    "print('GPU is', 'available' if gpu else 'NOT AVAILABLE')"
   ]
  },
  {
   "cell_type": "code",
   "execution_count": null,
   "id": "30716212-b84f-4ff3-83df-a756ce8d0b3c",
   "metadata": {},
   "outputs": [],
   "source": []
  }
 ],
 "metadata": {
  "kernelspec": {
   "display_name": "Python 3.9 (tensorflow)",
   "language": "python",
   "name": "tensorflow"
  },
  "language_info": {
   "codemirror_mode": {
    "name": "ipython",
    "version": 3
   },
   "file_extension": ".py",
   "mimetype": "text/x-python",
   "name": "python",
   "nbconvert_exporter": "python",
   "pygments_lexer": "ipython3",
   "version": "3.9.13"
  }
 },
 "nbformat": 4,
 "nbformat_minor": 5
}
