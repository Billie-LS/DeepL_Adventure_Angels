{
 "cells": [
  {
   "cell_type": "markdown",
   "metadata": {},
   "source": [
    "# Venture Funding with Deep Learning\n",
    "\n",
    "You work as a risk management associate at Alphabet Soup, a venture capital firm. Alphabet Soup’s business team receives many funding applications from startups every day. This team has asked you to help them create a model that predicts whether applicants will be successful if funded by Alphabet Soup.\n",
    "\n",
    "The business team has given you a CSV containing more than 34,000 organizations that have received funding from Alphabet Soup over the years. With your knowledge of machine learning and neural networks, you decide to use the features in the provided dataset to create a binary classifier model that will predict whether an applicant will become a successful business. The CSV file contains a variety of information about these businesses, including whether or not they ultimately became successful.\n",
    "\n",
    "## Instructions:\n",
    "\n",
    "The steps for this challenge are broken out into the following sections:\n",
    "\n",
    "* Prepare the data for use on a neural network model.\n",
    "\n",
    "* Compile and evaluate a binary classification model using a neural network.\n",
    "\n",
    "* Optimize the neural network model.\n",
    "\n",
    "### Prepare the Data for Use on a Neural Network Model \n",
    "\n",
    "Using your knowledge of Pandas and scikit-learn’s `StandardScaler()`, preprocess the dataset so that you can use it to compile and evaluate the neural network model later.\n",
    "\n",
    "Open the starter code file, and complete the following data preparation steps:\n",
    "\n",
    "1. Read the `applicants_data.csv` file into a Pandas DataFrame. Review the DataFrame, looking for categorical variables that will need to be encoded, as well as columns that could eventually define your features and target variables.   \n",
    "\n",
    "2. Drop the “EIN” (Employer Identification Number) and “NAME” columns from the DataFrame, because they are not relevant to the binary classification model.\n",
    " \n",
    "3. Encode the dataset’s categorical variables using `OneHotEncoder`, and then place the encoded variables into a new DataFrame.\n",
    "\n",
    "4. Add the original DataFrame’s numerical variables to the DataFrame containing the encoded variables.\n",
    "\n",
    "> **Note** To complete this step, you will employ the Pandas `concat()` function that was introduced earlier in this course. \n",
    "\n",
    "5. Using the preprocessed data, create the features (`X`) and target (`y`) datasets. The target dataset should be defined by the preprocessed DataFrame column “IS_SUCCESSFUL”. The remaining columns should define the features dataset. \n",
    "\n",
    "6. Split the features and target sets into training and testing datasets.\n",
    "\n",
    "7. Use scikit-learn's `StandardScaler` to scale the features data.\n",
    "\n",
    "### Compile and Evaluate a Binary Classification Model Using a Neural Network\n",
    "\n",
    "Use your knowledge of TensorFlow to design a binary classification deep neural network model. This model should use the dataset’s features to predict whether an Alphabet Soup&ndash;funded startup will be successful based on the features in the dataset. Consider the number of inputs before determining the number of layers that your model will contain or the number of neurons on each layer. Then, compile and fit your model. Finally, evaluate your binary classification model to calculate the model’s loss and accuracy. \n",
    " \n",
    "To do so, complete the following steps:\n",
    "\n",
    "1. Create a deep neural network by assigning the number of input features, the number of layers, and the number of neurons on each layer using Tensorflow’s Keras.\n",
    "\n",
    "> **Hint** You can start with a two-layer deep neural network model that uses the `relu` activation function for both layers.\n",
    "\n",
    "2. Compile and fit the model using the `binary_crossentropy` loss function, the `adam` optimizer, and the `accuracy` evaluation metric.\n",
    "\n",
    "> **Hint** When fitting the model, start with a small number of epochs, such as 20, 50, or 100.\n",
    "\n",
    "3. Evaluate the model using the test data to determine the model’s loss and accuracy.\n",
    "\n",
    "4. Save and export your model to an HDF5 file, and name the file `AlphabetSoup.h5`. \n",
    "\n",
    "### Optimize the Neural Network Model\n",
    "\n",
    "Using your knowledge of TensorFlow and Keras, optimize your model to improve the model's accuracy. Even if you do not successfully achieve a better accuracy, you'll need to demonstrate at least two attempts to optimize the model. You can include these attempts in your existing notebook. Or, you can make copies of the starter notebook in the same folder, rename them, and code each model optimization in a new notebook. \n",
    "\n",
    "> **Note** You will not lose points if your model does not achieve a high accuracy, as long as you make at least two attempts to optimize the model.\n",
    "\n",
    "To do so, complete the following steps:\n",
    "\n",
    "1. Define at least three new deep neural network models (the original plus 2 optimization attempts). With each, try to improve on your first model’s predictive accuracy.\n",
    "\n",
    "> **Rewind** Recall that perfect accuracy has a value of 1, so accuracy improves as its value moves closer to 1. To optimize your model for a predictive accuracy as close to 1 as possible, you can use any or all of the following techniques:\n",
    ">\n",
    "> * Adjust the input data by dropping different features columns to ensure that no variables or outliers confuse the model.\n",
    ">\n",
    "> * Add more neurons (nodes) to a hidden layer.\n",
    ">\n",
    "> * Add more hidden layers.\n",
    ">\n",
    "> * Use different activation functions for the hidden layers.\n",
    ">\n",
    "> * Add to or reduce the number of epochs in the training regimen.\n",
    "\n",
    "2. After finishing your models, display the accuracy scores achieved by each model, and compare the results.\n",
    "\n",
    "3. Save each of your models as an HDF5 file.\n"
   ]
  },
  {
   "cell_type": "code",
   "execution_count": 1,
   "metadata": {},
   "outputs": [],
   "source": [
    "# Import Dependencies\n",
    "import sys\n",
    "import platform\n",
    "\n",
    "import pandas as pd\n",
    "import numpy as np\n",
    "from pathlib import Path\n",
    "\n",
    "import sklearn as sk\n",
    "from sklearn.preprocessing import OneHotEncoder, StandardScaler\n",
    "from sklearn.model_selection import train_test_split\n",
    "\n",
    "import tensorflow as tf\n",
    "import tensorflow.keras\n",
    "# Import Sequential and Dense from Tensorflow Keras\n",
    "from tensorflow.keras.models import Sequential\n",
    "from tensorflow.keras.layers import Dense, Dropout, BatchNormalization \n",
    "\n",
    "import matplotlib.pyplot as plt\n",
    "%matplotlib inline\n",
    "gpu = len(tf.config.list_physical_devices('GPU'))>0\n",
    "\n",
    "import warnings\n",
    "warnings.filterwarnings('ignore')"
   ]
  },
  {
   "cell_type": "code",
   "execution_count": 2,
   "metadata": {},
   "outputs": [
    {
     "name": "stdout",
     "output_type": "stream",
     "text": [
      "Python Platform: macOS-12.6-arm64-arm-64bit\n",
      "Tensor Flow Version: 2.10.0\n",
      "Keras Version: 2.10.0\n",
      "\n",
      "Python 3.9.13 | packaged by conda-forge | (main, May 27 2022, 17:01:00) \n",
      "[Clang 13.0.1 ]\n",
      "Pandas 1.5.1\n",
      "Scikit-Learn 1.1.3\n",
      "GPU is available\n"
     ]
    }
   ],
   "source": [
    "# Report Technologies\n",
    "print(f\"Python Platform: {platform.platform()}\")\n",
    "print(f\"Tensor Flow Version: {tf.__version__}\")\n",
    "print(f\"Keras Version: {tensorflow.keras.__version__}\")\n",
    "print()\n",
    "print(f\"Python {sys.version}\")\n",
    "print(f\"Pandas {pd.__version__}\")\n",
    "print(f\"Scikit-Learn {sk.__version__}\")\n",
    "print(\"GPU is\", \"available\" if gpu else \"NOT AVAILABLE\")"
   ]
  },
  {
   "cell_type": "markdown",
   "metadata": {},
   "source": [
    "---\n",
    "\n",
    "## Prepare the data to be used on a neural network model"
   ]
  },
  {
   "cell_type": "markdown",
   "metadata": {},
   "source": [
    "### Step 1: Read the `applicants_data.csv` file into a Pandas DataFrame. Review the DataFrame, looking for categorical variables that will need to be encoded, as well as columns that could eventually define your features and target variables.  \n"
   ]
  },
  {
   "cell_type": "code",
   "execution_count": 3,
   "metadata": {},
   "outputs": [
    {
     "data": {
      "text/plain": [
       "Index(['EIN', 'NAME', 'APPLICATION_TYPE', 'AFFILIATION', 'CLASSIFICATION',\n",
       "       'USE_CASE', 'ORGANIZATION', 'STATUS', 'INCOME_AMT',\n",
       "       'SPECIAL_CONSIDERATIONS', 'ASK_AMT', 'IS_SUCCESSFUL'],\n",
       "      dtype='object')"
      ]
     },
     "metadata": {},
     "output_type": "display_data"
    },
    {
     "name": "stdout",
     "output_type": "stream",
     "text": [
      "\n",
      "\n"
     ]
    },
    {
     "data": {
      "text/plain": [
       "(34299, 12)"
      ]
     },
     "metadata": {},
     "output_type": "display_data"
    },
    {
     "name": "stdout",
     "output_type": "stream",
     "text": [
      "\n",
      "\n",
      "<class 'pandas.core.frame.DataFrame'>\n",
      "RangeIndex: 34299 entries, 0 to 34298\n",
      "Data columns (total 12 columns):\n",
      " #   Column                  Non-Null Count  Dtype \n",
      "---  ------                  --------------  ----- \n",
      " 0   EIN                     34299 non-null  int64 \n",
      " 1   NAME                    34299 non-null  object\n",
      " 2   APPLICATION_TYPE        34299 non-null  object\n",
      " 3   AFFILIATION             34299 non-null  object\n",
      " 4   CLASSIFICATION          34299 non-null  object\n",
      " 5   USE_CASE                34299 non-null  object\n",
      " 6   ORGANIZATION            34299 non-null  object\n",
      " 7   STATUS                  34299 non-null  int64 \n",
      " 8   INCOME_AMT              34299 non-null  object\n",
      " 9   SPECIAL_CONSIDERATIONS  34299 non-null  object\n",
      " 10  ASK_AMT                 34299 non-null  int64 \n",
      " 11  IS_SUCCESSFUL           34299 non-null  int64 \n",
      "dtypes: int64(4), object(8)\n",
      "memory usage: 3.1+ MB\n"
     ]
    },
    {
     "data": {
      "text/plain": [
       "None"
      ]
     },
     "metadata": {},
     "output_type": "display_data"
    },
    {
     "name": "stdout",
     "output_type": "stream",
     "text": [
      "\n",
      "\n"
     ]
    },
    {
     "data": {
      "text/html": [
       "<div>\n",
       "<style scoped>\n",
       "    .dataframe tbody tr th:only-of-type {\n",
       "        vertical-align: middle;\n",
       "    }\n",
       "\n",
       "    .dataframe tbody tr th {\n",
       "        vertical-align: top;\n",
       "    }\n",
       "\n",
       "    .dataframe thead th {\n",
       "        text-align: right;\n",
       "    }\n",
       "</style>\n",
       "<table border=\"1\" class=\"dataframe\">\n",
       "  <thead>\n",
       "    <tr style=\"text-align: right;\">\n",
       "      <th></th>\n",
       "      <th>EIN</th>\n",
       "      <th>NAME</th>\n",
       "      <th>APPLICATION_TYPE</th>\n",
       "      <th>AFFILIATION</th>\n",
       "      <th>CLASSIFICATION</th>\n",
       "      <th>USE_CASE</th>\n",
       "      <th>ORGANIZATION</th>\n",
       "      <th>STATUS</th>\n",
       "      <th>INCOME_AMT</th>\n",
       "      <th>SPECIAL_CONSIDERATIONS</th>\n",
       "      <th>ASK_AMT</th>\n",
       "      <th>IS_SUCCESSFUL</th>\n",
       "    </tr>\n",
       "  </thead>\n",
       "  <tbody>\n",
       "    <tr>\n",
       "      <th>0</th>\n",
       "      <td>10520599</td>\n",
       "      <td>BLUE KNIGHTS MOTORCYCLE CLUB</td>\n",
       "      <td>T10</td>\n",
       "      <td>Independent</td>\n",
       "      <td>C1000</td>\n",
       "      <td>ProductDev</td>\n",
       "      <td>Association</td>\n",
       "      <td>1</td>\n",
       "      <td>0</td>\n",
       "      <td>N</td>\n",
       "      <td>5000</td>\n",
       "      <td>1</td>\n",
       "    </tr>\n",
       "    <tr>\n",
       "      <th>1</th>\n",
       "      <td>10531628</td>\n",
       "      <td>AMERICAN CHESAPEAKE CLUB CHARITABLE TR</td>\n",
       "      <td>T3</td>\n",
       "      <td>Independent</td>\n",
       "      <td>C2000</td>\n",
       "      <td>Preservation</td>\n",
       "      <td>Co-operative</td>\n",
       "      <td>1</td>\n",
       "      <td>1-9999</td>\n",
       "      <td>N</td>\n",
       "      <td>108590</td>\n",
       "      <td>1</td>\n",
       "    </tr>\n",
       "    <tr>\n",
       "      <th>2</th>\n",
       "      <td>10547893</td>\n",
       "      <td>ST CLOUD PROFESSIONAL FIREFIGHTERS</td>\n",
       "      <td>T5</td>\n",
       "      <td>CompanySponsored</td>\n",
       "      <td>C3000</td>\n",
       "      <td>ProductDev</td>\n",
       "      <td>Association</td>\n",
       "      <td>1</td>\n",
       "      <td>0</td>\n",
       "      <td>N</td>\n",
       "      <td>5000</td>\n",
       "      <td>0</td>\n",
       "    </tr>\n",
       "  </tbody>\n",
       "</table>\n",
       "</div>"
      ],
      "text/plain": [
       "        EIN                                    NAME APPLICATION_TYPE  \\\n",
       "0  10520599            BLUE KNIGHTS MOTORCYCLE CLUB              T10   \n",
       "1  10531628  AMERICAN CHESAPEAKE CLUB CHARITABLE TR               T3   \n",
       "2  10547893      ST CLOUD PROFESSIONAL FIREFIGHTERS               T5   \n",
       "\n",
       "        AFFILIATION CLASSIFICATION      USE_CASE  ORGANIZATION  STATUS  \\\n",
       "0       Independent          C1000    ProductDev   Association       1   \n",
       "1       Independent          C2000  Preservation  Co-operative       1   \n",
       "2  CompanySponsored          C3000    ProductDev   Association       1   \n",
       "\n",
       "  INCOME_AMT SPECIAL_CONSIDERATIONS  ASK_AMT  IS_SUCCESSFUL  \n",
       "0          0                      N     5000              1  \n",
       "1     1-9999                      N   108590              1  \n",
       "2          0                      N     5000              0  "
      ]
     },
     "metadata": {},
     "output_type": "display_data"
    }
   ],
   "source": [
    "# Read the applicants_data.csv file from the Resources folder into a Pandas DataFrame\n",
    "applicant_data_df = pd.read_csv(\n",
    "    Path('Resources/applicants_data.csv')\n",
    ")\n",
    "\n",
    "# Review the DataFrame\n",
    "# confirm 'keys' and review the DataFrame\n",
    "display(applicant_data_df.columns)\n",
    "print('\\n')\n",
    "display(applicant_data_df.shape)\n",
    "print('\\n')\n",
    "display(applicant_data_df.info())\n",
    "print('\\n')\n",
    "display(applicant_data_df.head(3))"
   ]
  },
  {
   "cell_type": "code",
   "execution_count": 4,
   "metadata": {},
   "outputs": [
    {
     "data": {
      "text/plain": [
       "EIN                        int64\n",
       "NAME                      object\n",
       "APPLICATION_TYPE          object\n",
       "AFFILIATION               object\n",
       "CLASSIFICATION            object\n",
       "USE_CASE                  object\n",
       "ORGANIZATION              object\n",
       "STATUS                     int64\n",
       "INCOME_AMT                object\n",
       "SPECIAL_CONSIDERATIONS    object\n",
       "ASK_AMT                    int64\n",
       "IS_SUCCESSFUL              int64\n",
       "dtype: object"
      ]
     },
     "execution_count": 4,
     "metadata": {},
     "output_type": "execute_result"
    }
   ],
   "source": [
    "# Review the data types associated with the columns\n",
    "applicant_data_df.dtypes"
   ]
  },
  {
   "cell_type": "markdown",
   "metadata": {},
   "source": [
    "### Step 2: Drop the “EIN” (Employer Identification Number) and “NAME” columns from the DataFrame, because they are not relevant to the binary classification model."
   ]
  },
  {
   "cell_type": "code",
   "execution_count": 5,
   "metadata": {},
   "outputs": [
    {
     "data": {
      "text/plain": [
       "Index(['APPLICATION_TYPE', 'AFFILIATION', 'CLASSIFICATION', 'USE_CASE',\n",
       "       'ORGANIZATION', 'STATUS', 'INCOME_AMT', 'SPECIAL_CONSIDERATIONS',\n",
       "       'ASK_AMT', 'IS_SUCCESSFUL'],\n",
       "      dtype='object')"
      ]
     },
     "metadata": {},
     "output_type": "display_data"
    },
    {
     "name": "stdout",
     "output_type": "stream",
     "text": [
      "\n",
      "\n"
     ]
    },
    {
     "data": {
      "text/html": [
       "<div>\n",
       "<style scoped>\n",
       "    .dataframe tbody tr th:only-of-type {\n",
       "        vertical-align: middle;\n",
       "    }\n",
       "\n",
       "    .dataframe tbody tr th {\n",
       "        vertical-align: top;\n",
       "    }\n",
       "\n",
       "    .dataframe thead th {\n",
       "        text-align: right;\n",
       "    }\n",
       "</style>\n",
       "<table border=\"1\" class=\"dataframe\">\n",
       "  <thead>\n",
       "    <tr style=\"text-align: right;\">\n",
       "      <th></th>\n",
       "      <th>APPLICATION_TYPE</th>\n",
       "      <th>AFFILIATION</th>\n",
       "      <th>CLASSIFICATION</th>\n",
       "      <th>USE_CASE</th>\n",
       "      <th>ORGANIZATION</th>\n",
       "      <th>STATUS</th>\n",
       "      <th>INCOME_AMT</th>\n",
       "      <th>SPECIAL_CONSIDERATIONS</th>\n",
       "      <th>ASK_AMT</th>\n",
       "      <th>IS_SUCCESSFUL</th>\n",
       "    </tr>\n",
       "  </thead>\n",
       "  <tbody>\n",
       "    <tr>\n",
       "      <th>0</th>\n",
       "      <td>T10</td>\n",
       "      <td>Independent</td>\n",
       "      <td>C1000</td>\n",
       "      <td>ProductDev</td>\n",
       "      <td>Association</td>\n",
       "      <td>1</td>\n",
       "      <td>0</td>\n",
       "      <td>N</td>\n",
       "      <td>5000</td>\n",
       "      <td>1</td>\n",
       "    </tr>\n",
       "    <tr>\n",
       "      <th>1</th>\n",
       "      <td>T3</td>\n",
       "      <td>Independent</td>\n",
       "      <td>C2000</td>\n",
       "      <td>Preservation</td>\n",
       "      <td>Co-operative</td>\n",
       "      <td>1</td>\n",
       "      <td>1-9999</td>\n",
       "      <td>N</td>\n",
       "      <td>108590</td>\n",
       "      <td>1</td>\n",
       "    </tr>\n",
       "    <tr>\n",
       "      <th>2</th>\n",
       "      <td>T5</td>\n",
       "      <td>CompanySponsored</td>\n",
       "      <td>C3000</td>\n",
       "      <td>ProductDev</td>\n",
       "      <td>Association</td>\n",
       "      <td>1</td>\n",
       "      <td>0</td>\n",
       "      <td>N</td>\n",
       "      <td>5000</td>\n",
       "      <td>0</td>\n",
       "    </tr>\n",
       "  </tbody>\n",
       "</table>\n",
       "</div>"
      ],
      "text/plain": [
       "  APPLICATION_TYPE       AFFILIATION CLASSIFICATION      USE_CASE  \\\n",
       "0              T10       Independent          C1000    ProductDev   \n",
       "1               T3       Independent          C2000  Preservation   \n",
       "2               T5  CompanySponsored          C3000    ProductDev   \n",
       "\n",
       "   ORGANIZATION  STATUS INCOME_AMT SPECIAL_CONSIDERATIONS  ASK_AMT  \\\n",
       "0   Association       1          0                      N     5000   \n",
       "1  Co-operative       1     1-9999                      N   108590   \n",
       "2   Association       1          0                      N     5000   \n",
       "\n",
       "   IS_SUCCESSFUL  \n",
       "0              1  \n",
       "1              1  \n",
       "2              0  "
      ]
     },
     "metadata": {},
     "output_type": "display_data"
    }
   ],
   "source": [
    "# Drop the 'EIN' and 'NAME' columns from the DataFrame\n",
    "applicant_data_df = applicant_data_df.drop(columns=['EIN', 'NAME'])\n",
    "\n",
    "# Review the DataFrame\n",
    "display(applicant_data_df.columns)\n",
    "print('\\n')\n",
    "display(applicant_data_df.head(3))"
   ]
  },
  {
   "cell_type": "markdown",
   "metadata": {},
   "source": [
    "### Step 3: Encode the dataset’s categorical variables using `OneHotEncoder`, and then place the encoded variables into a new DataFrame."
   ]
  },
  {
   "cell_type": "code",
   "execution_count": 6,
   "metadata": {},
   "outputs": [
    {
     "data": {
      "text/plain": [
       "['APPLICATION_TYPE',\n",
       " 'AFFILIATION',\n",
       " 'CLASSIFICATION',\n",
       " 'USE_CASE',\n",
       " 'ORGANIZATION',\n",
       " 'INCOME_AMT',\n",
       " 'SPECIAL_CONSIDERATIONS']"
      ]
     },
     "execution_count": 6,
     "metadata": {},
     "output_type": "execute_result"
    }
   ],
   "source": [
    "# Create a list of categorical variables \n",
    "categorical_variables = list(applicant_data_df.dtypes[applicant_data_df.dtypes == \"object\"].index)\n",
    "\n",
    "# Display the categorical variables list\n",
    "categorical_variables"
   ]
  },
  {
   "cell_type": "code",
   "execution_count": 7,
   "metadata": {},
   "outputs": [],
   "source": [
    "# Create a OneHotEncoder instance\n",
    "enc = OneHotEncoder(sparse=False)"
   ]
  },
  {
   "cell_type": "code",
   "execution_count": 8,
   "metadata": {},
   "outputs": [],
   "source": [
    "# Encode the categorcal variables using OneHotEncoder\n",
    "encoded_data = enc.fit_transform(applicant_data_df[categorical_variables])"
   ]
  },
  {
   "cell_type": "code",
   "execution_count": 9,
   "metadata": {},
   "outputs": [
    {
     "data": {
      "text/plain": [
       "Index(['APPLICATION_TYPE_T10', 'APPLICATION_TYPE_T12', 'APPLICATION_TYPE_T13',\n",
       "       'APPLICATION_TYPE_T14', 'APPLICATION_TYPE_T15', 'APPLICATION_TYPE_T17',\n",
       "       'APPLICATION_TYPE_T19', 'APPLICATION_TYPE_T2', 'APPLICATION_TYPE_T25',\n",
       "       'APPLICATION_TYPE_T29',\n",
       "       ...\n",
       "       'INCOME_AMT_1-9999', 'INCOME_AMT_10000-24999',\n",
       "       'INCOME_AMT_100000-499999', 'INCOME_AMT_10M-50M', 'INCOME_AMT_1M-5M',\n",
       "       'INCOME_AMT_25000-99999', 'INCOME_AMT_50M+', 'INCOME_AMT_5M-10M',\n",
       "       'SPECIAL_CONSIDERATIONS_N', 'SPECIAL_CONSIDERATIONS_Y'],\n",
       "      dtype='object', length=114)"
      ]
     },
     "metadata": {},
     "output_type": "display_data"
    },
    {
     "name": "stdout",
     "output_type": "stream",
     "text": [
      "\n",
      "\n"
     ]
    },
    {
     "data": {
      "text/html": [
       "<div>\n",
       "<style scoped>\n",
       "    .dataframe tbody tr th:only-of-type {\n",
       "        vertical-align: middle;\n",
       "    }\n",
       "\n",
       "    .dataframe tbody tr th {\n",
       "        vertical-align: top;\n",
       "    }\n",
       "\n",
       "    .dataframe thead th {\n",
       "        text-align: right;\n",
       "    }\n",
       "</style>\n",
       "<table border=\"1\" class=\"dataframe\">\n",
       "  <thead>\n",
       "    <tr style=\"text-align: right;\">\n",
       "      <th></th>\n",
       "      <th>APPLICATION_TYPE_T10</th>\n",
       "      <th>APPLICATION_TYPE_T12</th>\n",
       "      <th>APPLICATION_TYPE_T13</th>\n",
       "      <th>APPLICATION_TYPE_T14</th>\n",
       "      <th>APPLICATION_TYPE_T15</th>\n",
       "      <th>APPLICATION_TYPE_T17</th>\n",
       "      <th>APPLICATION_TYPE_T19</th>\n",
       "      <th>APPLICATION_TYPE_T2</th>\n",
       "      <th>APPLICATION_TYPE_T25</th>\n",
       "      <th>APPLICATION_TYPE_T29</th>\n",
       "      <th>...</th>\n",
       "      <th>INCOME_AMT_1-9999</th>\n",
       "      <th>INCOME_AMT_10000-24999</th>\n",
       "      <th>INCOME_AMT_100000-499999</th>\n",
       "      <th>INCOME_AMT_10M-50M</th>\n",
       "      <th>INCOME_AMT_1M-5M</th>\n",
       "      <th>INCOME_AMT_25000-99999</th>\n",
       "      <th>INCOME_AMT_50M+</th>\n",
       "      <th>INCOME_AMT_5M-10M</th>\n",
       "      <th>SPECIAL_CONSIDERATIONS_N</th>\n",
       "      <th>SPECIAL_CONSIDERATIONS_Y</th>\n",
       "    </tr>\n",
       "  </thead>\n",
       "  <tbody>\n",
       "    <tr>\n",
       "      <th>0</th>\n",
       "      <td>1.0</td>\n",
       "      <td>0.0</td>\n",
       "      <td>0.0</td>\n",
       "      <td>0.0</td>\n",
       "      <td>0.0</td>\n",
       "      <td>0.0</td>\n",
       "      <td>0.0</td>\n",
       "      <td>0.0</td>\n",
       "      <td>0.0</td>\n",
       "      <td>0.0</td>\n",
       "      <td>...</td>\n",
       "      <td>0.0</td>\n",
       "      <td>0.0</td>\n",
       "      <td>0.0</td>\n",
       "      <td>0.0</td>\n",
       "      <td>0.0</td>\n",
       "      <td>0.0</td>\n",
       "      <td>0.0</td>\n",
       "      <td>0.0</td>\n",
       "      <td>1.0</td>\n",
       "      <td>0.0</td>\n",
       "    </tr>\n",
       "    <tr>\n",
       "      <th>1</th>\n",
       "      <td>0.0</td>\n",
       "      <td>0.0</td>\n",
       "      <td>0.0</td>\n",
       "      <td>0.0</td>\n",
       "      <td>0.0</td>\n",
       "      <td>0.0</td>\n",
       "      <td>0.0</td>\n",
       "      <td>0.0</td>\n",
       "      <td>0.0</td>\n",
       "      <td>0.0</td>\n",
       "      <td>...</td>\n",
       "      <td>1.0</td>\n",
       "      <td>0.0</td>\n",
       "      <td>0.0</td>\n",
       "      <td>0.0</td>\n",
       "      <td>0.0</td>\n",
       "      <td>0.0</td>\n",
       "      <td>0.0</td>\n",
       "      <td>0.0</td>\n",
       "      <td>1.0</td>\n",
       "      <td>0.0</td>\n",
       "    </tr>\n",
       "    <tr>\n",
       "      <th>2</th>\n",
       "      <td>0.0</td>\n",
       "      <td>0.0</td>\n",
       "      <td>0.0</td>\n",
       "      <td>0.0</td>\n",
       "      <td>0.0</td>\n",
       "      <td>0.0</td>\n",
       "      <td>0.0</td>\n",
       "      <td>0.0</td>\n",
       "      <td>0.0</td>\n",
       "      <td>0.0</td>\n",
       "      <td>...</td>\n",
       "      <td>0.0</td>\n",
       "      <td>0.0</td>\n",
       "      <td>0.0</td>\n",
       "      <td>0.0</td>\n",
       "      <td>0.0</td>\n",
       "      <td>0.0</td>\n",
       "      <td>0.0</td>\n",
       "      <td>0.0</td>\n",
       "      <td>1.0</td>\n",
       "      <td>0.0</td>\n",
       "    </tr>\n",
       "  </tbody>\n",
       "</table>\n",
       "<p>3 rows × 114 columns</p>\n",
       "</div>"
      ],
      "text/plain": [
       "   APPLICATION_TYPE_T10  APPLICATION_TYPE_T12  APPLICATION_TYPE_T13  \\\n",
       "0                   1.0                   0.0                   0.0   \n",
       "1                   0.0                   0.0                   0.0   \n",
       "2                   0.0                   0.0                   0.0   \n",
       "\n",
       "   APPLICATION_TYPE_T14  APPLICATION_TYPE_T15  APPLICATION_TYPE_T17  \\\n",
       "0                   0.0                   0.0                   0.0   \n",
       "1                   0.0                   0.0                   0.0   \n",
       "2                   0.0                   0.0                   0.0   \n",
       "\n",
       "   APPLICATION_TYPE_T19  APPLICATION_TYPE_T2  APPLICATION_TYPE_T25  \\\n",
       "0                   0.0                  0.0                   0.0   \n",
       "1                   0.0                  0.0                   0.0   \n",
       "2                   0.0                  0.0                   0.0   \n",
       "\n",
       "   APPLICATION_TYPE_T29  ...  INCOME_AMT_1-9999  INCOME_AMT_10000-24999  \\\n",
       "0                   0.0  ...                0.0                     0.0   \n",
       "1                   0.0  ...                1.0                     0.0   \n",
       "2                   0.0  ...                0.0                     0.0   \n",
       "\n",
       "   INCOME_AMT_100000-499999  INCOME_AMT_10M-50M  INCOME_AMT_1M-5M  \\\n",
       "0                       0.0                 0.0               0.0   \n",
       "1                       0.0                 0.0               0.0   \n",
       "2                       0.0                 0.0               0.0   \n",
       "\n",
       "   INCOME_AMT_25000-99999  INCOME_AMT_50M+  INCOME_AMT_5M-10M  \\\n",
       "0                     0.0              0.0                0.0   \n",
       "1                     0.0              0.0                0.0   \n",
       "2                     0.0              0.0                0.0   \n",
       "\n",
       "   SPECIAL_CONSIDERATIONS_N  SPECIAL_CONSIDERATIONS_Y  \n",
       "0                       1.0                       0.0  \n",
       "1                       1.0                       0.0  \n",
       "2                       1.0                       0.0  \n",
       "\n",
       "[3 rows x 114 columns]"
      ]
     },
     "metadata": {},
     "output_type": "display_data"
    }
   ],
   "source": [
    "# Create a DataFrame with the encoded variables\n",
    "encoded_df = pd.DataFrame(\n",
    "    encoded_data,\n",
    "    columns = enc.get_feature_names(categorical_variables)\n",
    ")\n",
    "\n",
    "# confirm 'keys' and review the DataFrame\n",
    "display(encoded_df.columns)\n",
    "print('\\n')\n",
    "display(encoded_df.head(3))"
   ]
  },
  {
   "cell_type": "markdown",
   "metadata": {},
   "source": [
    "### Step 4: Add the original DataFrame’s numerical variables to the DataFrame containing the encoded variables.\n",
    "\n",
    "> **Note** To complete this step, you will employ the Pandas `concat()` function that was introduced earlier in this course. "
   ]
  },
  {
   "cell_type": "code",
   "execution_count": 10,
   "metadata": {},
   "outputs": [
    {
     "data": {
      "text/plain": [
       "Index(['STATUS', 'ASK_AMT', 'IS_SUCCESSFUL', 'APPLICATION_TYPE_T10',\n",
       "       'APPLICATION_TYPE_T12', 'APPLICATION_TYPE_T13', 'APPLICATION_TYPE_T14',\n",
       "       'APPLICATION_TYPE_T15', 'APPLICATION_TYPE_T17', 'APPLICATION_TYPE_T19',\n",
       "       ...\n",
       "       'INCOME_AMT_1-9999', 'INCOME_AMT_10000-24999',\n",
       "       'INCOME_AMT_100000-499999', 'INCOME_AMT_10M-50M', 'INCOME_AMT_1M-5M',\n",
       "       'INCOME_AMT_25000-99999', 'INCOME_AMT_50M+', 'INCOME_AMT_5M-10M',\n",
       "       'SPECIAL_CONSIDERATIONS_N', 'SPECIAL_CONSIDERATIONS_Y'],\n",
       "      dtype='object', length=117)"
      ]
     },
     "metadata": {},
     "output_type": "display_data"
    },
    {
     "name": "stdout",
     "output_type": "stream",
     "text": [
      "\n",
      "\n"
     ]
    },
    {
     "data": {
      "text/html": [
       "<div>\n",
       "<style scoped>\n",
       "    .dataframe tbody tr th:only-of-type {\n",
       "        vertical-align: middle;\n",
       "    }\n",
       "\n",
       "    .dataframe tbody tr th {\n",
       "        vertical-align: top;\n",
       "    }\n",
       "\n",
       "    .dataframe thead th {\n",
       "        text-align: right;\n",
       "    }\n",
       "</style>\n",
       "<table border=\"1\" class=\"dataframe\">\n",
       "  <thead>\n",
       "    <tr style=\"text-align: right;\">\n",
       "      <th></th>\n",
       "      <th>STATUS</th>\n",
       "      <th>ASK_AMT</th>\n",
       "      <th>IS_SUCCESSFUL</th>\n",
       "      <th>APPLICATION_TYPE_T10</th>\n",
       "      <th>APPLICATION_TYPE_T12</th>\n",
       "      <th>APPLICATION_TYPE_T13</th>\n",
       "      <th>APPLICATION_TYPE_T14</th>\n",
       "      <th>APPLICATION_TYPE_T15</th>\n",
       "      <th>APPLICATION_TYPE_T17</th>\n",
       "      <th>APPLICATION_TYPE_T19</th>\n",
       "      <th>...</th>\n",
       "      <th>INCOME_AMT_1-9999</th>\n",
       "      <th>INCOME_AMT_10000-24999</th>\n",
       "      <th>INCOME_AMT_100000-499999</th>\n",
       "      <th>INCOME_AMT_10M-50M</th>\n",
       "      <th>INCOME_AMT_1M-5M</th>\n",
       "      <th>INCOME_AMT_25000-99999</th>\n",
       "      <th>INCOME_AMT_50M+</th>\n",
       "      <th>INCOME_AMT_5M-10M</th>\n",
       "      <th>SPECIAL_CONSIDERATIONS_N</th>\n",
       "      <th>SPECIAL_CONSIDERATIONS_Y</th>\n",
       "    </tr>\n",
       "  </thead>\n",
       "  <tbody>\n",
       "    <tr>\n",
       "      <th>0</th>\n",
       "      <td>1</td>\n",
       "      <td>5000</td>\n",
       "      <td>1</td>\n",
       "      <td>1.0</td>\n",
       "      <td>0.0</td>\n",
       "      <td>0.0</td>\n",
       "      <td>0.0</td>\n",
       "      <td>0.0</td>\n",
       "      <td>0.0</td>\n",
       "      <td>0.0</td>\n",
       "      <td>...</td>\n",
       "      <td>0.0</td>\n",
       "      <td>0.0</td>\n",
       "      <td>0.0</td>\n",
       "      <td>0.0</td>\n",
       "      <td>0.0</td>\n",
       "      <td>0.0</td>\n",
       "      <td>0.0</td>\n",
       "      <td>0.0</td>\n",
       "      <td>1.0</td>\n",
       "      <td>0.0</td>\n",
       "    </tr>\n",
       "    <tr>\n",
       "      <th>1</th>\n",
       "      <td>1</td>\n",
       "      <td>108590</td>\n",
       "      <td>1</td>\n",
       "      <td>0.0</td>\n",
       "      <td>0.0</td>\n",
       "      <td>0.0</td>\n",
       "      <td>0.0</td>\n",
       "      <td>0.0</td>\n",
       "      <td>0.0</td>\n",
       "      <td>0.0</td>\n",
       "      <td>...</td>\n",
       "      <td>1.0</td>\n",
       "      <td>0.0</td>\n",
       "      <td>0.0</td>\n",
       "      <td>0.0</td>\n",
       "      <td>0.0</td>\n",
       "      <td>0.0</td>\n",
       "      <td>0.0</td>\n",
       "      <td>0.0</td>\n",
       "      <td>1.0</td>\n",
       "      <td>0.0</td>\n",
       "    </tr>\n",
       "    <tr>\n",
       "      <th>2</th>\n",
       "      <td>1</td>\n",
       "      <td>5000</td>\n",
       "      <td>0</td>\n",
       "      <td>0.0</td>\n",
       "      <td>0.0</td>\n",
       "      <td>0.0</td>\n",
       "      <td>0.0</td>\n",
       "      <td>0.0</td>\n",
       "      <td>0.0</td>\n",
       "      <td>0.0</td>\n",
       "      <td>...</td>\n",
       "      <td>0.0</td>\n",
       "      <td>0.0</td>\n",
       "      <td>0.0</td>\n",
       "      <td>0.0</td>\n",
       "      <td>0.0</td>\n",
       "      <td>0.0</td>\n",
       "      <td>0.0</td>\n",
       "      <td>0.0</td>\n",
       "      <td>1.0</td>\n",
       "      <td>0.0</td>\n",
       "    </tr>\n",
       "  </tbody>\n",
       "</table>\n",
       "<p>3 rows × 117 columns</p>\n",
       "</div>"
      ],
      "text/plain": [
       "   STATUS  ASK_AMT  IS_SUCCESSFUL  APPLICATION_TYPE_T10  APPLICATION_TYPE_T12  \\\n",
       "0       1     5000              1                   1.0                   0.0   \n",
       "1       1   108590              1                   0.0                   0.0   \n",
       "2       1     5000              0                   0.0                   0.0   \n",
       "\n",
       "   APPLICATION_TYPE_T13  APPLICATION_TYPE_T14  APPLICATION_TYPE_T15  \\\n",
       "0                   0.0                   0.0                   0.0   \n",
       "1                   0.0                   0.0                   0.0   \n",
       "2                   0.0                   0.0                   0.0   \n",
       "\n",
       "   APPLICATION_TYPE_T17  APPLICATION_TYPE_T19  ...  INCOME_AMT_1-9999  \\\n",
       "0                   0.0                   0.0  ...                0.0   \n",
       "1                   0.0                   0.0  ...                1.0   \n",
       "2                   0.0                   0.0  ...                0.0   \n",
       "\n",
       "   INCOME_AMT_10000-24999  INCOME_AMT_100000-499999  INCOME_AMT_10M-50M  \\\n",
       "0                     0.0                       0.0                 0.0   \n",
       "1                     0.0                       0.0                 0.0   \n",
       "2                     0.0                       0.0                 0.0   \n",
       "\n",
       "   INCOME_AMT_1M-5M  INCOME_AMT_25000-99999  INCOME_AMT_50M+  \\\n",
       "0               0.0                     0.0              0.0   \n",
       "1               0.0                     0.0              0.0   \n",
       "2               0.0                     0.0              0.0   \n",
       "\n",
       "   INCOME_AMT_5M-10M  SPECIAL_CONSIDERATIONS_N  SPECIAL_CONSIDERATIONS_Y  \n",
       "0                0.0                       1.0                       0.0  \n",
       "1                0.0                       1.0                       0.0  \n",
       "2                0.0                       1.0                       0.0  \n",
       "\n",
       "[3 rows x 117 columns]"
      ]
     },
     "metadata": {},
     "output_type": "display_data"
    }
   ],
   "source": [
    "# Add the numerical variables from the original DataFrame to the one-hot encoding DataFrame\n",
    "encoded_df = pd.concat(\n",
    "    [\n",
    "        applicant_data_df.drop(columns=categorical_variables), \n",
    "        encoded_df\n",
    "    ], \n",
    "        axis=1\n",
    ")\n",
    "\n",
    "# confirm 'keys' and review the DataFrame\n",
    "display(encoded_df.columns)\n",
    "print('\\n')\n",
    "display(encoded_df.head(3))"
   ]
  },
  {
   "cell_type": "markdown",
   "metadata": {},
   "source": [
    "### Step 5: Using the preprocessed data, create the features (`X`) and target (`y`) datasets. The target dataset should be defined by the preprocessed DataFrame column “IS_SUCCESSFUL”. The remaining columns should define the features dataset. \n",
    "\n"
   ]
  },
  {
   "cell_type": "code",
   "execution_count": 11,
   "metadata": {},
   "outputs": [
    {
     "data": {
      "text/plain": [
       "0    1\n",
       "1    1\n",
       "2    0\n",
       "3    1\n",
       "4    1\n",
       "Name: IS_SUCCESSFUL, dtype: int64"
      ]
     },
     "metadata": {},
     "output_type": "display_data"
    },
    {
     "data": {
      "text/plain": [
       "34294    0\n",
       "34295    0\n",
       "34296    0\n",
       "34297    1\n",
       "34298    0\n",
       "Name: IS_SUCCESSFUL, dtype: int64"
      ]
     },
     "metadata": {},
     "output_type": "display_data"
    }
   ],
   "source": [
    "# Define the target set y using the IS_SUCCESSFUL column\n",
    "y = encoded_df['IS_SUCCESSFUL'] \n",
    "\n",
    "# Display a sample of y\n",
    "display(y[:5])\n",
    "display(y[-5:])"
   ]
  },
  {
   "cell_type": "code",
   "execution_count": 12,
   "metadata": {},
   "outputs": [
    {
     "data": {
      "text/html": [
       "<div>\n",
       "<style scoped>\n",
       "    .dataframe tbody tr th:only-of-type {\n",
       "        vertical-align: middle;\n",
       "    }\n",
       "\n",
       "    .dataframe tbody tr th {\n",
       "        vertical-align: top;\n",
       "    }\n",
       "\n",
       "    .dataframe thead th {\n",
       "        text-align: right;\n",
       "    }\n",
       "</style>\n",
       "<table border=\"1\" class=\"dataframe\">\n",
       "  <thead>\n",
       "    <tr style=\"text-align: right;\">\n",
       "      <th></th>\n",
       "      <th>STATUS</th>\n",
       "      <th>ASK_AMT</th>\n",
       "      <th>APPLICATION_TYPE_T10</th>\n",
       "      <th>APPLICATION_TYPE_T12</th>\n",
       "      <th>APPLICATION_TYPE_T13</th>\n",
       "      <th>APPLICATION_TYPE_T14</th>\n",
       "      <th>APPLICATION_TYPE_T15</th>\n",
       "      <th>APPLICATION_TYPE_T17</th>\n",
       "      <th>APPLICATION_TYPE_T19</th>\n",
       "      <th>APPLICATION_TYPE_T2</th>\n",
       "      <th>...</th>\n",
       "      <th>INCOME_AMT_1-9999</th>\n",
       "      <th>INCOME_AMT_10000-24999</th>\n",
       "      <th>INCOME_AMT_100000-499999</th>\n",
       "      <th>INCOME_AMT_10M-50M</th>\n",
       "      <th>INCOME_AMT_1M-5M</th>\n",
       "      <th>INCOME_AMT_25000-99999</th>\n",
       "      <th>INCOME_AMT_50M+</th>\n",
       "      <th>INCOME_AMT_5M-10M</th>\n",
       "      <th>SPECIAL_CONSIDERATIONS_N</th>\n",
       "      <th>SPECIAL_CONSIDERATIONS_Y</th>\n",
       "    </tr>\n",
       "  </thead>\n",
       "  <tbody>\n",
       "    <tr>\n",
       "      <th>18471</th>\n",
       "      <td>1</td>\n",
       "      <td>5000</td>\n",
       "      <td>0.0</td>\n",
       "      <td>0.0</td>\n",
       "      <td>0.0</td>\n",
       "      <td>0.0</td>\n",
       "      <td>0.0</td>\n",
       "      <td>0.0</td>\n",
       "      <td>0.0</td>\n",
       "      <td>0.0</td>\n",
       "      <td>...</td>\n",
       "      <td>0.0</td>\n",
       "      <td>0.0</td>\n",
       "      <td>0.0</td>\n",
       "      <td>0.0</td>\n",
       "      <td>0.0</td>\n",
       "      <td>0.0</td>\n",
       "      <td>0.0</td>\n",
       "      <td>0.0</td>\n",
       "      <td>1.0</td>\n",
       "      <td>0.0</td>\n",
       "    </tr>\n",
       "    <tr>\n",
       "      <th>27226</th>\n",
       "      <td>1</td>\n",
       "      <td>5000</td>\n",
       "      <td>0.0</td>\n",
       "      <td>0.0</td>\n",
       "      <td>0.0</td>\n",
       "      <td>0.0</td>\n",
       "      <td>0.0</td>\n",
       "      <td>0.0</td>\n",
       "      <td>0.0</td>\n",
       "      <td>0.0</td>\n",
       "      <td>...</td>\n",
       "      <td>0.0</td>\n",
       "      <td>0.0</td>\n",
       "      <td>0.0</td>\n",
       "      <td>0.0</td>\n",
       "      <td>0.0</td>\n",
       "      <td>0.0</td>\n",
       "      <td>0.0</td>\n",
       "      <td>0.0</td>\n",
       "      <td>1.0</td>\n",
       "      <td>0.0</td>\n",
       "    </tr>\n",
       "    <tr>\n",
       "      <th>14405</th>\n",
       "      <td>1</td>\n",
       "      <td>5000</td>\n",
       "      <td>0.0</td>\n",
       "      <td>0.0</td>\n",
       "      <td>0.0</td>\n",
       "      <td>0.0</td>\n",
       "      <td>0.0</td>\n",
       "      <td>0.0</td>\n",
       "      <td>0.0</td>\n",
       "      <td>0.0</td>\n",
       "      <td>...</td>\n",
       "      <td>0.0</td>\n",
       "      <td>0.0</td>\n",
       "      <td>0.0</td>\n",
       "      <td>0.0</td>\n",
       "      <td>0.0</td>\n",
       "      <td>0.0</td>\n",
       "      <td>0.0</td>\n",
       "      <td>0.0</td>\n",
       "      <td>1.0</td>\n",
       "      <td>0.0</td>\n",
       "    </tr>\n",
       "  </tbody>\n",
       "</table>\n",
       "<p>3 rows × 116 columns</p>\n",
       "</div>"
      ],
      "text/plain": [
       "       STATUS  ASK_AMT  APPLICATION_TYPE_T10  APPLICATION_TYPE_T12  \\\n",
       "18471       1     5000                   0.0                   0.0   \n",
       "27226       1     5000                   0.0                   0.0   \n",
       "14405       1     5000                   0.0                   0.0   \n",
       "\n",
       "       APPLICATION_TYPE_T13  APPLICATION_TYPE_T14  APPLICATION_TYPE_T15  \\\n",
       "18471                   0.0                   0.0                   0.0   \n",
       "27226                   0.0                   0.0                   0.0   \n",
       "14405                   0.0                   0.0                   0.0   \n",
       "\n",
       "       APPLICATION_TYPE_T17  APPLICATION_TYPE_T19  APPLICATION_TYPE_T2  ...  \\\n",
       "18471                   0.0                   0.0                  0.0  ...   \n",
       "27226                   0.0                   0.0                  0.0  ...   \n",
       "14405                   0.0                   0.0                  0.0  ...   \n",
       "\n",
       "       INCOME_AMT_1-9999  INCOME_AMT_10000-24999  INCOME_AMT_100000-499999  \\\n",
       "18471                0.0                     0.0                       0.0   \n",
       "27226                0.0                     0.0                       0.0   \n",
       "14405                0.0                     0.0                       0.0   \n",
       "\n",
       "       INCOME_AMT_10M-50M  INCOME_AMT_1M-5M  INCOME_AMT_25000-99999  \\\n",
       "18471                 0.0               0.0                     0.0   \n",
       "27226                 0.0               0.0                     0.0   \n",
       "14405                 0.0               0.0                     0.0   \n",
       "\n",
       "       INCOME_AMT_50M+  INCOME_AMT_5M-10M  SPECIAL_CONSIDERATIONS_N  \\\n",
       "18471              0.0                0.0                       1.0   \n",
       "27226              0.0                0.0                       1.0   \n",
       "14405              0.0                0.0                       1.0   \n",
       "\n",
       "       SPECIAL_CONSIDERATIONS_Y  \n",
       "18471                       0.0  \n",
       "27226                       0.0  \n",
       "14405                       0.0  \n",
       "\n",
       "[3 rows x 116 columns]"
      ]
     },
     "metadata": {},
     "output_type": "display_data"
    }
   ],
   "source": [
    "# Define features set X by selecting all columns but IS_SUCCESSFUL\n",
    "# X = encoded_df.drop('IS_SUCCESSFUL', axis=1)\n",
    "# X = encoded_df.drop(columns=['IS_SUCCESSFUL'])\n",
    "X = encoded_df.drop(columns=('IS_SUCCESSFUL')) \n",
    "\n",
    "# Review the features DataFrame\n",
    "display(X.sample(3))"
   ]
  },
  {
   "cell_type": "markdown",
   "metadata": {},
   "source": [
    "### Step 6: Split the features and target sets into training and testing datasets.\n"
   ]
  },
  {
   "cell_type": "code",
   "execution_count": 13,
   "metadata": {},
   "outputs": [],
   "source": [
    "# Split the preprocessed data into a training and testing dataset\n",
    "# Assign the function a random_state equal to 1\n",
    "SEED = 1\n",
    "X_train, X_test, y_train, y_test = train_test_split(\n",
    "    X, \n",
    "    y,\n",
    "    test_size=0.1,                # 90% train : 10% test split\n",
    "    random_state = SEED\n",
    ")"
   ]
  },
  {
   "cell_type": "markdown",
   "metadata": {},
   "source": [
    "### inspect datasets' lengths, i.e. review the split"
   ]
  },
  {
   "cell_type": "code",
   "execution_count": 14,
   "metadata": {},
   "outputs": [
    {
     "data": {
      "text/plain": [
       "34299"
      ]
     },
     "metadata": {},
     "output_type": "display_data"
    },
    {
     "data": {
      "text/plain": [
       "30869"
      ]
     },
     "metadata": {},
     "output_type": "display_data"
    },
    {
     "data": {
      "text/plain": [
       "3430"
      ]
     },
     "metadata": {},
     "output_type": "display_data"
    }
   ],
   "source": [
    "# inspect the lengths of the full dataset and of split data\n",
    "display(len(X))            # 34299\n",
    "display(len(X_train))      # 27439\n",
    "display(len(X_test))       # 6860"
   ]
  },
  {
   "cell_type": "markdown",
   "metadata": {},
   "source": [
    "### Step 7: Use scikit-learn's `StandardScaler` to scale the features data."
   ]
  },
  {
   "cell_type": "code",
   "execution_count": 15,
   "metadata": {},
   "outputs": [
    {
     "data": {
      "text/plain": [
       "(30869, 116)"
      ]
     },
     "metadata": {},
     "output_type": "display_data"
    },
    {
     "data": {
      "text/plain": [
       "(3430, 116)"
      ]
     },
     "metadata": {},
     "output_type": "display_data"
    }
   ],
   "source": [
    "# Create a StandardScaler instance\n",
    "scaler = StandardScaler()\n",
    "\n",
    "# Fit the scaler to the features training dataset\n",
    "X_scaler = scaler.fit(X_train)      # Fit only on X_train\n",
    "\n",
    "# Scale the features data\n",
    "X_train_scaled = X_scaler.transform(X_train) \n",
    "X_test_scaled = X_scaler.transform(X_test)\n",
    "\n",
    "# Features count\n",
    "display(X_train_scaled.shape)\n",
    "display(X_test_scaled.shape)"
   ]
  },
  {
   "cell_type": "markdown",
   "metadata": {},
   "source": [
    "---\n",
    "\n",
    "## Compile and Evaluate a Binary Classification Model Using a Neural Network"
   ]
  },
  {
   "cell_type": "markdown",
   "metadata": {},
   "source": [
    "### Step 1: Create a deep neural network by assigning the number of input features, the number of layers, and the number of neurons on each layer using Tensorflow’s Keras.\n",
    "\n",
    "> **Hint** You can start with a two-layer deep neural network model that uses the `relu` activation function for both layers.\n"
   ]
  },
  {
   "cell_type": "code",
   "execution_count": 16,
   "metadata": {},
   "outputs": [
    {
     "data": {
      "text/plain": [
       "116"
      ]
     },
     "execution_count": 16,
     "metadata": {},
     "output_type": "execute_result"
    }
   ],
   "source": [
    "# Define the the number of inputs (features) to the model\n",
    "# number_input_features = X_train_scaled.shape[1]\n",
    "number_input_features = len(X_train.iloc[0])\n",
    "\n",
    "# Review the number of features\n",
    "number_input_features"
   ]
  },
  {
   "cell_type": "code",
   "execution_count": 17,
   "metadata": {},
   "outputs": [
    {
     "data": {
      "text/plain": [
       "58"
      ]
     },
     "execution_count": 17,
     "metadata": {},
     "output_type": "execute_result"
    }
   ],
   "source": [
    "# Define the number of hidden nodes for the first hidden layer\n",
    "hidden_nodes_layer1 = (number_input_features + 1) // 2 \n",
    "\n",
    "# Review the number hidden nodes in the first layer\n",
    "hidden_nodes_layer1"
   ]
  },
  {
   "cell_type": "code",
   "execution_count": 18,
   "metadata": {},
   "outputs": [
    {
     "data": {
      "text/plain": [
       "29"
      ]
     },
     "execution_count": 18,
     "metadata": {},
     "output_type": "execute_result"
    }
   ],
   "source": [
    "# Define the number of hidden nodes for the second hidden layer\n",
    "hidden_nodes_layer2 =  (hidden_nodes_layer1 + 1) // 2\n",
    "\n",
    "# Review the number hidden nodes in the second layer\n",
    "hidden_nodes_layer2"
   ]
  },
  {
   "cell_type": "code",
   "execution_count": 19,
   "metadata": {},
   "outputs": [],
   "source": [
    "# Define the number of neurons in the output layer\n",
    "number_output_neurons = 1"
   ]
  },
  {
   "cell_type": "code",
   "execution_count": 20,
   "metadata": {},
   "outputs": [
    {
     "name": "stdout",
     "output_type": "stream",
     "text": [
      "Metal device set to: Apple M1 Max\n"
     ]
    },
    {
     "name": "stderr",
     "output_type": "stream",
     "text": [
      "2022-11-19 22:58:07.267645: I tensorflow/core/common_runtime/pluggable_device/pluggable_device_factory.cc:306] Could not identify NUMA node of platform GPU ID 0, defaulting to 0. Your kernel may not have been built with NUMA support.\n",
      "2022-11-19 22:58:07.267765: I tensorflow/core/common_runtime/pluggable_device/pluggable_device_factory.cc:272] Created TensorFlow device (/job:localhost/replica:0/task:0/device:GPU:0 with 0 MB memory) -> physical PluggableDevice (device: 0, name: METAL, pci bus id: <undefined>)\n"
     ]
    }
   ],
   "source": [
    "# Create the Sequential model instance\n",
    "nn = Sequential()"
   ]
  },
  {
   "cell_type": "code",
   "execution_count": 21,
   "metadata": {},
   "outputs": [],
   "source": [
    "# Add the first hidden layer specifying the number of inputs, the number of hidden nodes, and the activation function\n",
    "nn.add(Dense(units=hidden_nodes_layer1, input_dim=number_input_features, activation='relu')\n",
    "      )"
   ]
  },
  {
   "cell_type": "code",
   "execution_count": 22,
   "metadata": {},
   "outputs": [],
   "source": [
    "# Add the second hidden layer specifying the number of hidden nodes and the activation function\n",
    "nn.add(Dense(units=hidden_nodes_layer2, activation='relu'))"
   ]
  },
  {
   "cell_type": "code",
   "execution_count": 23,
   "metadata": {},
   "outputs": [],
   "source": [
    "# Add the output layer to the model specifying the number of output neurons and activation function\n",
    "nn.add(Dense(units=1, activation='sigmoid'))"
   ]
  },
  {
   "cell_type": "markdown",
   "metadata": {},
   "source": [
    "## Display the structure of your model using the summary function."
   ]
  },
  {
   "cell_type": "code",
   "execution_count": 24,
   "metadata": {},
   "outputs": [
    {
     "name": "stdout",
     "output_type": "stream",
     "text": [
      "Model: \"sequential\"\n",
      "_________________________________________________________________\n",
      " Layer (type)                Output Shape              Param #   \n",
      "=================================================================\n",
      " dense (Dense)               (None, 58)                6786      \n",
      "                                                                 \n",
      " dense_1 (Dense)             (None, 29)                1711      \n",
      "                                                                 \n",
      " dense_2 (Dense)             (None, 1)                 30        \n",
      "                                                                 \n",
      "=================================================================\n",
      "Total params: 8,527\n",
      "Trainable params: 8,527\n",
      "Non-trainable params: 0\n",
      "_________________________________________________________________\n"
     ]
    }
   ],
   "source": [
    "# Display the Sequential model summary\n",
    "nn.summary()"
   ]
  },
  {
   "cell_type": "markdown",
   "metadata": {},
   "source": [
    "### Step 2: Compile and fit the model using the `binary_crossentropy` loss function, the `adam` optimizer, and the `accuracy` evaluation metric.\n"
   ]
  },
  {
   "cell_type": "code",
   "execution_count": 25,
   "metadata": {},
   "outputs": [],
   "source": [
    "# Compile the Sequential model\n",
    "nn.compile(loss='binary_crossentropy', optimizer='adam', metrics=['accuracy'])"
   ]
  },
  {
   "cell_type": "code",
   "execution_count": 26,
   "metadata": {},
   "outputs": [
    {
     "name": "stdout",
     "output_type": "stream",
     "text": [
      "Epoch 1/20\n"
     ]
    },
    {
     "name": "stderr",
     "output_type": "stream",
     "text": [
      "2022-11-19 22:58:07.403588: W tensorflow/core/platform/profile_utils/cpu_utils.cc:128] Failed to get CPU frequency: 0 Hz\n",
      "2022-11-19 22:58:07.604916: I tensorflow/core/grappler/optimizers/custom_graph_optimizer_registry.cc:114] Plugin optimizer for device_type GPU is enabled.\n"
     ]
    },
    {
     "name": "stdout",
     "output_type": "stream",
     "text": [
      "483/483 [==============================] - ETA: 0s - loss: 0.5811 - accuracy: 0.7145"
     ]
    },
    {
     "name": "stderr",
     "output_type": "stream",
     "text": [
      "2022-11-19 22:58:10.988751: I tensorflow/core/grappler/optimizers/custom_graph_optimizer_registry.cc:114] Plugin optimizer for device_type GPU is enabled.\n"
     ]
    },
    {
     "name": "stdout",
     "output_type": "stream",
     "text": [
      "483/483 [==============================] - 4s 6ms/step - loss: 0.5811 - accuracy: 0.7145 - val_loss: 4386.1299 - val_accuracy: 0.4609\n",
      "Epoch 2/20\n",
      "483/483 [==============================] - 3s 6ms/step - loss: 0.5524 - accuracy: 0.7302 - val_loss: 6510.5630 - val_accuracy: 0.4609\n",
      "Epoch 3/20\n",
      "483/483 [==============================] - 3s 6ms/step - loss: 0.5500 - accuracy: 0.7309 - val_loss: 35180.9570 - val_accuracy: 0.4609\n",
      "Epoch 4/20\n",
      "483/483 [==============================] - 3s 6ms/step - loss: 0.5472 - accuracy: 0.7319 - val_loss: 16876.5977 - val_accuracy: 0.4609\n",
      "Epoch 5/20\n",
      "483/483 [==============================] - 3s 6ms/step - loss: 0.5459 - accuracy: 0.7316 - val_loss: 14473.2402 - val_accuracy: 0.4609\n",
      "Epoch 6/20\n",
      "483/483 [==============================] - 3s 6ms/step - loss: 0.5451 - accuracy: 0.7325 - val_loss: 103320.4766 - val_accuracy: 0.5391\n",
      "Epoch 7/20\n",
      "483/483 [==============================] - 3s 6ms/step - loss: 0.5439 - accuracy: 0.7338 - val_loss: 31733.9727 - val_accuracy: 0.4609\n",
      "Epoch 8/20\n",
      "483/483 [==============================] - 3s 6ms/step - loss: 0.5445 - accuracy: 0.7327 - val_loss: 4436.7876 - val_accuracy: 0.4609\n",
      "Epoch 9/20\n",
      "483/483 [==============================] - 3s 6ms/step - loss: 0.5433 - accuracy: 0.7332 - val_loss: 93079.5703 - val_accuracy: 0.5391\n",
      "Epoch 10/20\n",
      "483/483 [==============================] - 3s 6ms/step - loss: 0.5421 - accuracy: 0.7343 - val_loss: 2653.2407 - val_accuracy: 0.4609\n",
      "Epoch 11/20\n",
      "483/483 [==============================] - 3s 6ms/step - loss: 0.5427 - accuracy: 0.7338 - val_loss: 11373.6143 - val_accuracy: 0.5391\n",
      "Epoch 12/20\n",
      "483/483 [==============================] - 3s 6ms/step - loss: 0.5419 - accuracy: 0.7342 - val_loss: 13779.2070 - val_accuracy: 0.4609\n",
      "Epoch 13/20\n",
      "483/483 [==============================] - 3s 6ms/step - loss: 0.5415 - accuracy: 0.7350 - val_loss: 15873.5371 - val_accuracy: 0.5391\n",
      "Epoch 14/20\n",
      "483/483 [==============================] - 3s 6ms/step - loss: 0.5406 - accuracy: 0.7345 - val_loss: 13370.5264 - val_accuracy: 0.5391\n",
      "Epoch 15/20\n",
      "483/483 [==============================] - 3s 6ms/step - loss: 0.5405 - accuracy: 0.7363 - val_loss: 86493.4766 - val_accuracy: 0.5391\n",
      "Epoch 16/20\n",
      "483/483 [==============================] - 3s 6ms/step - loss: 0.5404 - accuracy: 0.7374 - val_loss: 5090.0337 - val_accuracy: 0.4609\n",
      "Epoch 17/20\n",
      "483/483 [==============================] - 3s 6ms/step - loss: 0.5398 - accuracy: 0.7360 - val_loss: 12587.0850 - val_accuracy: 0.4609\n",
      "Epoch 18/20\n",
      "483/483 [==============================] - 3s 6ms/step - loss: 0.5396 - accuracy: 0.7358 - val_loss: 10996.3789 - val_accuracy: 0.5391\n",
      "Epoch 19/20\n",
      "483/483 [==============================] - 3s 6ms/step - loss: 0.5394 - accuracy: 0.7365 - val_loss: 22629.4316 - val_accuracy: 0.4609\n",
      "Epoch 20/20\n",
      "483/483 [==============================] - 3s 6ms/step - loss: 0.5388 - accuracy: 0.7358 - val_loss: 26939.2070 - val_accuracy: 0.5391\n"
     ]
    }
   ],
   "source": [
    "# Fit the model using 50 epochs and the training data\n",
    "model = nn.fit(X_train_scaled, y_train, epochs=50,\n",
    "               validation_data=(X_test, y_test),\n",
    "               validation_split=0.3, batch_size=64, verbose=True,\n",
    "               callbacks = [tf.keras.callbacks.EarlyStopping(patience=20)]\n",
    "              )"
   ]
  },
  {
   "cell_type": "markdown",
   "metadata": {},
   "source": [
    "### Compare train (loss) and test (val_loss) metrics and look for signs of overfitting"
   ]
  },
  {
   "cell_type": "code",
   "execution_count": 46,
   "metadata": {},
   "outputs": [
    {
     "data": {
      "image/png": "[encoded data removed]",
      "text/plain": [
       "<Figure size 640x480 with 1 Axes>"
      ]
     },
     "metadata": {},
     "output_type": "display_data"
    }
   ],
   "source": [
    "# Plot train vs test for first neural net\n",
    "plt.plot(model.history['loss'])\n",
    "plt.plot(model.history['val_loss'])\n",
    "plt.title(\"loss_function - first model - Train Vs. Test\")\n",
    "plt.ylabel('Loss')\n",
    "plt.xlabel('Epoch')\n",
    "plt.legend(['train', 'test'],loc='upper right')\n",
    "plt.show()"
   ]
  },
  {
   "cell_type": "markdown",
   "metadata": {},
   "source": [
    "### Step 3: Evaluate the model using the test data to determine the model’s loss and accuracy.\n"
   ]
  },
  {
   "cell_type": "code",
   "execution_count": 29,
   "metadata": {},
   "outputs": [
    {
     "name": "stderr",
     "output_type": "stream",
     "text": [
      "2022-11-19 22:59:07.160189: I tensorflow/core/grappler/optimizers/custom_graph_optimizer_registry.cc:114] Plugin optimizer for device_type GPU is enabled.\n"
     ]
    },
    {
     "name": "stdout",
     "output_type": "stream",
     "text": [
      "108/108 - 1s - loss: 0.5518 - accuracy: 0.7318 - 528ms/epoch - 5ms/step\n",
      "Loss: 0.5517562627792358, Accuracy: 0.7317784428596497\n"
     ]
    }
   ],
   "source": [
    "# Evaluate the model loss and accuracy metrics using the evaluate method and the test data\n",
    "model_loss, model_accuracy = nn.evaluate(X_test_scaled,y_test,verbose=2)\n",
    "# Display the model loss and accuracy results\n",
    "print(f\"Loss: {model_loss}, Accuracy: {model_accuracy}\")"
   ]
  },
  {
   "cell_type": "markdown",
   "metadata": {},
   "source": [
    "### Step 4: Save and export your model to an HDF5 file, and name the file `AlphabetSoup.h5`. "
   ]
  },
  {
   "cell_type": "code",
   "execution_count": 30,
   "metadata": {},
   "outputs": [],
   "source": [
    "# Set the model's file path\n",
    "file_path = Path('./Resources/AlphabetSoup.h5')\n",
    "\n",
    "# Export your model to a HDF5 file\n",
    "nn.save(file_path)"
   ]
  },
  {
   "cell_type": "markdown",
   "metadata": {},
   "source": [
    "### Step 5: Save and export the model as JSON to a file, and name the file `AlphabetSoup1.json`. "
   ]
  },
  {
   "cell_type": "code",
   "execution_count": 31,
   "metadata": {},
   "outputs": [],
   "source": [
    "# Save model as JSON\n",
    "nn_json = nn.to_json()\n",
    "\n",
    "file_path = Path('./Resources/AlphabetSoup1.json')\n",
    "with open(file_path, 'w') as json_file:\n",
    "    json_file.write(nn_json)"
   ]
  },
  {
   "cell_type": "markdown",
   "metadata": {},
   "source": [
    "### Save the model weights"
   ]
  },
  {
   "cell_type": "code",
   "execution_count": 32,
   "metadata": {},
   "outputs": [],
   "source": [
    "# Save weights\n",
    "file_path = \"./Resources/model.h5\"\n",
    "nn.save_weights(\"./Resources/AlphabetSoup1.h5\")"
   ]
  },
  {
   "cell_type": "markdown",
   "metadata": {},
   "source": [
    "---\n",
    "\n",
    "## Optimize the neural network model\n"
   ]
  },
  {
   "cell_type": "markdown",
   "metadata": {},
   "source": [
    "### Step 1: Define at least three new deep neural network models (resulting in the original plus 3 optimization attempts). With each, try to improve on your first model’s predictive accuracy.\n",
    "\n",
    "> **Rewind** Recall that perfect accuracy has a value of 1, so accuracy improves as its value moves closer to 1. To optimize your model for a predictive accuracy as close to 1 as possible, you can use any or all of the following techniques:\n",
    ">\n",
    "> * Adjust the input data by dropping different features columns to ensure that no variables or outliers confuse the model.\n",
    ">\n",
    "> * Add more neurons (nodes) to a hidden layer.\n",
    ">\n",
    "> * Add more hidden layers.\n",
    ">\n",
    "> * Use different activation functions for the hidden layers.\n",
    ">\n",
    "> * Add to or reduce the number of epochs in the training regimen.\n"
   ]
  },
  {
   "cell_type": "markdown",
   "metadata": {},
   "source": [
    "# Alternative Model 1\n",
    "### general guideline total number of hidden neurons < 2x input features"
   ]
  },
  {
   "cell_type": "code",
   "execution_count": 35,
   "metadata": {},
   "outputs": [
    {
     "data": {
      "text/plain": [
       "116"
      ]
     },
     "execution_count": 35,
     "metadata": {},
     "output_type": "execute_result"
    }
   ],
   "source": [
    "# Define the the number of inputs (features) to the model\n",
    "# number_input_features = X_train_scaled.shape[1]\n",
    "number_input_features = len(X_train.iloc[0])\n",
    "\n",
    "# Review the number of features\n",
    "number_input_features"
   ]
  },
  {
   "cell_type": "code",
   "execution_count": 36,
   "metadata": {},
   "outputs": [
    {
     "data": {
      "text/plain": [
       "230"
      ]
     },
     "execution_count": 36,
     "metadata": {},
     "output_type": "execute_result"
    }
   ],
   "source": [
    "# Define the number of hidden nodes for the first hidden layer\n",
    "hidden_nodes_layer1_A1 = 230\n",
    "\n",
    "# Review the number of hidden nodes in the first layer\n",
    "hidden_nodes_layer1_A1"
   ]
  },
  {
   "cell_type": "code",
   "execution_count": 37,
   "metadata": {},
   "outputs": [],
   "source": [
    "# Define the number of neurons in the output layer\n",
    "number_output_neurons_A1 = 1"
   ]
  },
  {
   "cell_type": "code",
   "execution_count": 38,
   "metadata": {},
   "outputs": [],
   "source": [
    "# Create the Sequential model instance\n",
    "nn_A1 = Sequential()"
   ]
  },
  {
   "cell_type": "code",
   "execution_count": 40,
   "metadata": {},
   "outputs": [
    {
     "name": "stdout",
     "output_type": "stream",
     "text": [
      "Model: \"sequential_1\"\n",
      "_________________________________________________________________\n",
      " Layer (type)                Output Shape              Param #   \n",
      "=================================================================\n",
      " dense_3 (Dense)             (None, 230)               26910     \n",
      "                                                                 \n",
      " dense_4 (Dense)             (None, 1)                 231       \n",
      "                                                                 \n",
      " dense_5 (Dense)             (None, 230)               460       \n",
      "                                                                 \n",
      " dense_6 (Dense)             (None, 1)                 231       \n",
      "                                                                 \n",
      "=================================================================\n",
      "Total params: 27,832\n",
      "Trainable params: 27,832\n",
      "Non-trainable params: 0\n",
      "_________________________________________________________________\n"
     ]
    }
   ],
   "source": [
    "# Add the first hidden layer specifying the number of inputs, the number of hidden nodes, and the activation function\n",
    "nn_A1.add(Dense(units=hidden_nodes_layer1_A1, input_dim=number_input_features, activation='relu')\n",
    "      )\n",
    "# Add the output layer to the model specifying the number of output neurons and activation function\n",
    "nn_A1.add(Dense(units=1, activation='sigmoid'))\n",
    "\n",
    "# Display the Sequential model summary\n",
    "nn_A1.summary()"
   ]
  },
  {
   "cell_type": "code",
   "execution_count": 42,
   "metadata": {},
   "outputs": [],
   "source": [
    "# Compile the Sequential model\n",
    "nn_A1.compile(loss='binary_crossentropy', optimizer='adam', metrics=['accuracy'])"
   ]
  },
  {
   "cell_type": "code",
   "execution_count": 44,
   "metadata": {},
   "outputs": [
    {
     "name": "stdout",
     "output_type": "stream",
     "text": [
      "Epoch 1/50\n",
      "483/483 [==============================] - 3s 7ms/step - loss: 0.5439 - accuracy: 0.7365 - val_loss: 0.9980 - val_accuracy: 0.5391\n",
      "Epoch 2/50\n",
      "483/483 [==============================] - 3s 6ms/step - loss: 0.5441 - accuracy: 0.7362 - val_loss: 1.0423 - val_accuracy: 0.5391\n",
      "Epoch 3/50\n",
      "483/483 [==============================] - 3s 7ms/step - loss: 0.5457 - accuracy: 0.7363 - val_loss: 1.4477 - val_accuracy: 0.4609\n",
      "Epoch 4/50\n",
      "483/483 [==============================] - 3s 6ms/step - loss: 0.5456 - accuracy: 0.7359 - val_loss: 1.0265 - val_accuracy: 0.5391\n",
      "Epoch 5/50\n",
      "483/483 [==============================] - 3s 6ms/step - loss: 0.5450 - accuracy: 0.7358 - val_loss: 1.4425 - val_accuracy: 0.4609\n",
      "Epoch 6/50\n",
      "483/483 [==============================] - 3s 6ms/step - loss: 0.5451 - accuracy: 0.7354 - val_loss: 0.9898 - val_accuracy: 0.5391\n",
      "Epoch 7/50\n",
      "483/483 [==============================] - 3s 7ms/step - loss: 0.5430 - accuracy: 0.7372 - val_loss: 1.0096 - val_accuracy: 0.5391\n",
      "Epoch 8/50\n",
      "483/483 [==============================] - 3s 7ms/step - loss: 0.5433 - accuracy: 0.7362 - val_loss: 1.0032 - val_accuracy: 0.5391\n",
      "Epoch 9/50\n",
      "483/483 [==============================] - 3s 6ms/step - loss: 0.5424 - accuracy: 0.7381 - val_loss: 1.0122 - val_accuracy: 0.5391\n",
      "Epoch 10/50\n",
      "483/483 [==============================] - 3s 7ms/step - loss: 0.5425 - accuracy: 0.7366 - val_loss: 1.0152 - val_accuracy: 0.5391\n",
      "Epoch 11/50\n",
      "483/483 [==============================] - 3s 7ms/step - loss: 0.5426 - accuracy: 0.7363 - val_loss: 1.0213 - val_accuracy: 0.5391\n",
      "Epoch 12/50\n",
      "483/483 [==============================] - 3s 6ms/step - loss: 0.5423 - accuracy: 0.7371 - val_loss: 1.0348 - val_accuracy: 0.5391\n",
      "Epoch 13/50\n",
      "483/483 [==============================] - 3s 7ms/step - loss: 0.5431 - accuracy: 0.7367 - val_loss: 1.0662 - val_accuracy: 0.5391\n",
      "Epoch 14/50\n",
      "483/483 [==============================] - 3s 7ms/step - loss: 0.5434 - accuracy: 0.7368 - val_loss: 0.9973 - val_accuracy: 0.5391\n",
      "Epoch 15/50\n",
      "483/483 [==============================] - 3s 7ms/step - loss: 0.5441 - accuracy: 0.7362 - val_loss: 1.0344 - val_accuracy: 0.5391\n",
      "Epoch 16/50\n",
      "483/483 [==============================] - 3s 7ms/step - loss: 0.5436 - accuracy: 0.7371 - val_loss: 1.0046 - val_accuracy: 0.5391\n",
      "Epoch 17/50\n",
      "483/483 [==============================] - 3s 7ms/step - loss: 0.5423 - accuracy: 0.7371 - val_loss: 0.9962 - val_accuracy: 0.5391\n",
      "Epoch 18/50\n",
      "483/483 [==============================] - 3s 7ms/step - loss: 0.5426 - accuracy: 0.7368 - val_loss: 1.0166 - val_accuracy: 0.5391\n",
      "Epoch 19/50\n",
      "483/483 [==============================] - 3s 7ms/step - loss: 0.5419 - accuracy: 0.7368 - val_loss: 1.0372 - val_accuracy: 0.5391\n",
      "Epoch 20/50\n",
      "483/483 [==============================] - 3s 7ms/step - loss: 0.5419 - accuracy: 0.7378 - val_loss: 1.0078 - val_accuracy: 0.5391\n",
      "Epoch 21/50\n",
      "483/483 [==============================] - 3s 6ms/step - loss: 0.5408 - accuracy: 0.7370 - val_loss: 1.0402 - val_accuracy: 0.5391\n",
      "Epoch 22/50\n",
      "483/483 [==============================] - 3s 6ms/step - loss: 0.5412 - accuracy: 0.7392 - val_loss: 0.9949 - val_accuracy: 0.5391\n",
      "Epoch 23/50\n",
      "483/483 [==============================] - 3s 6ms/step - loss: 0.5413 - accuracy: 0.7377 - val_loss: 0.9842 - val_accuracy: 0.5391\n",
      "Epoch 24/50\n",
      "483/483 [==============================] - 3s 7ms/step - loss: 0.5403 - accuracy: 0.7393 - val_loss: 1.0129 - val_accuracy: 0.5391\n",
      "Epoch 25/50\n",
      "483/483 [==============================] - 3s 6ms/step - loss: 0.5411 - accuracy: 0.7387 - val_loss: 1.0218 - val_accuracy: 0.5391\n",
      "Epoch 26/50\n",
      "483/483 [==============================] - 3s 6ms/step - loss: 0.5407 - accuracy: 0.7379 - val_loss: 1.0549 - val_accuracy: 0.5391\n",
      "Epoch 27/50\n",
      "483/483 [==============================] - 3s 7ms/step - loss: 0.5405 - accuracy: 0.7380 - val_loss: 1.6561 - val_accuracy: 0.4609\n",
      "Epoch 28/50\n",
      "483/483 [==============================] - 3s 7ms/step - loss: 0.5406 - accuracy: 0.7382 - val_loss: 1.0350 - val_accuracy: 0.5391\n",
      "Epoch 29/50\n",
      "483/483 [==============================] - 3s 7ms/step - loss: 0.5400 - accuracy: 0.7385 - val_loss: 0.9924 - val_accuracy: 0.5391\n",
      "Epoch 30/50\n",
      "483/483 [==============================] - 3s 7ms/step - loss: 0.5406 - accuracy: 0.7368 - val_loss: 1.6547 - val_accuracy: 0.4609\n",
      "Epoch 31/50\n",
      "483/483 [==============================] - 3s 7ms/step - loss: 0.5405 - accuracy: 0.7378 - val_loss: 1.6722 - val_accuracy: 0.4609\n",
      "Epoch 32/50\n",
      "483/483 [==============================] - 3s 7ms/step - loss: 0.5396 - accuracy: 0.7384 - val_loss: 1.0532 - val_accuracy: 0.5391\n",
      "Epoch 33/50\n",
      "483/483 [==============================] - 3s 7ms/step - loss: 0.5401 - accuracy: 0.7376 - val_loss: 1.0239 - val_accuracy: 0.5391\n",
      "Epoch 34/50\n",
      "483/483 [==============================] - 3s 7ms/step - loss: 0.5404 - accuracy: 0.7386 - val_loss: 1.0168 - val_accuracy: 0.5391\n",
      "Epoch 35/50\n",
      "483/483 [==============================] - 3s 7ms/step - loss: 0.5410 - accuracy: 0.7380 - val_loss: 1.0415 - val_accuracy: 0.5391\n",
      "Epoch 36/50\n",
      "483/483 [==============================] - 3s 6ms/step - loss: 0.5409 - accuracy: 0.7379 - val_loss: 1.6448 - val_accuracy: 0.4609\n",
      "Epoch 37/50\n",
      "483/483 [==============================] - 3s 6ms/step - loss: 0.5403 - accuracy: 0.7386 - val_loss: 0.9694 - val_accuracy: 0.5391\n",
      "Epoch 38/50\n",
      "483/483 [==============================] - 3s 7ms/step - loss: 0.5410 - accuracy: 0.7369 - val_loss: 1.6502 - val_accuracy: 0.4609\n",
      "Epoch 39/50\n",
      "483/483 [==============================] - 3s 7ms/step - loss: 0.5399 - accuracy: 0.7389 - val_loss: 1.0058 - val_accuracy: 0.5391\n",
      "Epoch 40/50\n",
      "483/483 [==============================] - 3s 7ms/step - loss: 0.5398 - accuracy: 0.7388 - val_loss: 0.9794 - val_accuracy: 0.5391\n",
      "Epoch 41/50\n",
      "483/483 [==============================] - 3s 7ms/step - loss: 0.5407 - accuracy: 0.7380 - val_loss: 1.0403 - val_accuracy: 0.5391\n",
      "Epoch 42/50\n",
      "483/483 [==============================] - 3s 7ms/step - loss: 0.5403 - accuracy: 0.7378 - val_loss: 1.0675 - val_accuracy: 0.5391\n",
      "Epoch 43/50\n",
      "483/483 [==============================] - 3s 7ms/step - loss: 0.5401 - accuracy: 0.7394 - val_loss: 1.6291 - val_accuracy: 0.4609\n",
      "Epoch 44/50\n",
      "483/483 [==============================] - 3s 7ms/step - loss: 0.5399 - accuracy: 0.7387 - val_loss: 1.0863 - val_accuracy: 0.5391\n",
      "Epoch 45/50\n",
      "483/483 [==============================] - 3s 7ms/step - loss: 0.5409 - accuracy: 0.7381 - val_loss: 0.9820 - val_accuracy: 0.5391\n",
      "Epoch 46/50\n",
      "483/483 [==============================] - 3s 7ms/step - loss: 0.5418 - accuracy: 0.7379 - val_loss: 1.0234 - val_accuracy: 0.5391\n",
      "Epoch 47/50\n",
      "483/483 [==============================] - 3s 7ms/step - loss: 0.5399 - accuracy: 0.7384 - val_loss: 1.6183 - val_accuracy: 0.4609\n",
      "Epoch 48/50\n",
      "483/483 [==============================] - 3s 7ms/step - loss: 0.5391 - accuracy: 0.7390 - val_loss: 1.6166 - val_accuracy: 0.4609\n",
      "Epoch 49/50\n",
      "483/483 [==============================] - 3s 7ms/step - loss: 0.5394 - accuracy: 0.7390 - val_loss: 1.0277 - val_accuracy: 0.5391\n",
      "Epoch 50/50\n",
      "483/483 [==============================] - 3s 7ms/step - loss: 0.5393 - accuracy: 0.7372 - val_loss: 1.0151 - val_accuracy: 0.5391\n"
     ]
    }
   ],
   "source": [
    "# Fit the model using 50 epochs and the training data\n",
    "model_A1= nn_A1.fit(X_train_scaled, y_train, epochs=50,\n",
    "               validation_data=(X_test, y_test),\n",
    "               validation_split=0.3, batch_size=64, verbose=True,\n",
    "               callbacks = [tf.keras.callbacks.EarlyStopping(patience=20)]\n",
    "              )"
   ]
  },
  {
   "cell_type": "code",
   "execution_count": 47,
   "metadata": {},
   "outputs": [
    {
     "data": {
      "image/png": "[encoded data removed]",
      "text/plain": [
       "<Figure size 640x480 with 1 Axes>"
      ]
     },
     "metadata": {},
     "output_type": "display_data"
    }
   ],
   "source": [
    "# Plot train vs test for first neural net\n",
    "plt.plot(model_A1.history['loss'])\n",
    "plt.plot(model_A1.history['val_loss'])\n",
    "plt.title(\"loss_function - alternative 1 model - Train Vs. Test\")\n",
    "plt.ylabel('Loss')\n",
    "plt.xlabel('Epoch')\n",
    "plt.legend(['train', 'test'],loc='upper right')\n",
    "plt.show()"
   ]
  },
  {
   "cell_type": "markdown",
   "metadata": {},
   "source": [
    "#### Alternative Model 2"
   ]
  },
  {
   "cell_type": "code",
   "execution_count": 49,
   "metadata": {},
   "outputs": [
    {
     "data": {
      "text/plain": [
       "116"
      ]
     },
     "execution_count": 49,
     "metadata": {},
     "output_type": "execute_result"
    }
   ],
   "source": [
    "# Define the the number of inputs (features) to the model\n",
    "# number_input_features = X_train_scaled.shape[1]\n",
    "number_input_features = len(X_train.iloc[0])\n",
    "\n",
    "# Review the number of features\n",
    "number_input_features"
   ]
  },
  {
   "cell_type": "code",
   "execution_count": 50,
   "metadata": {},
   "outputs": [
    {
     "data": {
      "text/plain": [
       "152"
      ]
     },
     "execution_count": 50,
     "metadata": {},
     "output_type": "execute_result"
    }
   ],
   "source": [
    "# Define the number of hidden nodes for the first hidden layer\n",
    "hidden_nodes_layer1_A2 = 152\n",
    "\n",
    "# Review the number of hidden nodes in the first layer\n",
    "hidden_nodes_layer1_A2"
   ]
  },
  {
   "cell_type": "code",
   "execution_count": 56,
   "metadata": {},
   "outputs": [
    {
     "data": {
      "text/plain": [
       "78"
      ]
     },
     "execution_count": 56,
     "metadata": {},
     "output_type": "execute_result"
    }
   ],
   "source": [
    "# Define the number of hidden nodes for the second hidden layer\n",
    "hidden_nodes_layer2_A2 = 78\n",
    "\n",
    "# Review the number of hidden nodes in the first layer\n",
    "hidden_nodes_layer2_A2"
   ]
  },
  {
   "cell_type": "code",
   "execution_count": 57,
   "metadata": {},
   "outputs": [],
   "source": [
    "# Define the number of neurons in the output layer\n",
    "number_output_neurons_A2 = 1"
   ]
  },
  {
   "cell_type": "code",
   "execution_count": 58,
   "metadata": {},
   "outputs": [],
   "source": [
    "# Create the Sequential model instance\n",
    "nn_A2 = Sequential()"
   ]
  },
  {
   "cell_type": "code",
   "execution_count": 59,
   "metadata": {},
   "outputs": [],
   "source": [
    "# Add the first hidden layer specifying the number of inputs, the number of hidden nodes, and the activation function\n",
    "nn_A2.add(Dense(units=hidden_nodes_layer1_A2, input_dim=number_input_features, activation='relu')\n",
    "      )\n",
    "\n",
    "# Add the second hidden layer specifying the number of hidden nodes and the activation function\n",
    "nn_A2.add(Dense(units=hidden_nodes_layer2_A2, activation='relu'))\n",
    "\n",
    "# Add the output layer to the model specifying the number of output neurons and activation function\n",
    "nn_A2.add(Dense(units=1, activation='sigmoid'))"
   ]
  },
  {
   "cell_type": "code",
   "execution_count": 60,
   "metadata": {},
   "outputs": [],
   "source": [
    "# Compile the Sequential model\n",
    "nn_A2.compile(loss='binary_crossentropy', optimizer='adam', metrics=['accuracy'])"
   ]
  },
  {
   "cell_type": "code",
   "execution_count": 61,
   "metadata": {},
   "outputs": [
    {
     "name": "stdout",
     "output_type": "stream",
     "text": [
      "Epoch 1/50\n",
      "  9/483 [..............................] - ETA: 3s - loss: 0.6880 - accuracy: 0.6024  "
     ]
    },
    {
     "name": "stderr",
     "output_type": "stream",
     "text": [
      "2022-11-19 23:39:31.218001: I tensorflow/core/grappler/optimizers/custom_graph_optimizer_registry.cc:114] Plugin optimizer for device_type GPU is enabled.\n"
     ]
    },
    {
     "name": "stdout",
     "output_type": "stream",
     "text": [
      "483/483 [==============================] - ETA: 0s - loss: 0.5756 - accuracy: 0.7189"
     ]
    },
    {
     "name": "stderr",
     "output_type": "stream",
     "text": [
      "2022-11-19 23:39:34.285789: I tensorflow/core/grappler/optimizers/custom_graph_optimizer_registry.cc:114] Plugin optimizer for device_type GPU is enabled.\n"
     ]
    },
    {
     "name": "stdout",
     "output_type": "stream",
     "text": [
      "483/483 [==============================] - 3s 7ms/step - loss: 0.5756 - accuracy: 0.7189 - val_loss: 150994.3906 - val_accuracy: 0.5391\n",
      "Epoch 2/50\n",
      "483/483 [==============================] - 3s 6ms/step - loss: 0.5547 - accuracy: 0.7287 - val_loss: 4525.8716 - val_accuracy: 0.4609\n",
      "Epoch 3/50\n",
      "483/483 [==============================] - 3s 6ms/step - loss: 0.5500 - accuracy: 0.7308 - val_loss: 60914.6406 - val_accuracy: 0.5391\n",
      "Epoch 4/50\n",
      "483/483 [==============================] - 3s 6ms/step - loss: 0.5492 - accuracy: 0.7297 - val_loss: 3899.7297 - val_accuracy: 0.4609\n",
      "Epoch 5/50\n",
      "483/483 [==============================] - 3s 6ms/step - loss: 0.5462 - accuracy: 0.7338 - val_loss: 18809.5156 - val_accuracy: 0.5391\n",
      "Epoch 6/50\n",
      "483/483 [==============================] - 3s 6ms/step - loss: 0.5452 - accuracy: 0.7326 - val_loss: 70550.4297 - val_accuracy: 0.5391\n",
      "Epoch 7/50\n",
      "483/483 [==============================] - 3s 6ms/step - loss: 0.5446 - accuracy: 0.7337 - val_loss: 39303.9727 - val_accuracy: 0.4609\n",
      "Epoch 8/50\n",
      "483/483 [==============================] - 3s 6ms/step - loss: 0.5431 - accuracy: 0.7333 - val_loss: 16094.3252 - val_accuracy: 0.5391\n",
      "Epoch 9/50\n",
      "483/483 [==============================] - 3s 6ms/step - loss: 0.5431 - accuracy: 0.7339 - val_loss: 39580.5742 - val_accuracy: 0.4609\n",
      "Epoch 10/50\n",
      "483/483 [==============================] - 3s 6ms/step - loss: 0.5421 - accuracy: 0.7350 - val_loss: 23578.6270 - val_accuracy: 0.4609\n",
      "Epoch 11/50\n",
      "483/483 [==============================] - 3s 6ms/step - loss: 0.5415 - accuracy: 0.7341 - val_loss: 14733.6992 - val_accuracy: 0.4609\n",
      "Epoch 12/50\n",
      "483/483 [==============================] - 3s 6ms/step - loss: 0.5408 - accuracy: 0.7351 - val_loss: 29265.2734 - val_accuracy: 0.5391\n",
      "Epoch 13/50\n",
      "483/483 [==============================] - 3s 6ms/step - loss: 0.5405 - accuracy: 0.7347 - val_loss: 23694.9258 - val_accuracy: 0.4609\n",
      "Epoch 14/50\n",
      "483/483 [==============================] - 3s 6ms/step - loss: 0.5406 - accuracy: 0.7353 - val_loss: 12443.7969 - val_accuracy: 0.5391\n",
      "Epoch 15/50\n",
      "483/483 [==============================] - 3s 6ms/step - loss: 0.5398 - accuracy: 0.7359 - val_loss: 866.0720 - val_accuracy: 0.5391\n",
      "Epoch 16/50\n",
      "483/483 [==============================] - 3s 6ms/step - loss: 0.5393 - accuracy: 0.7351 - val_loss: 13741.5459 - val_accuracy: 0.5391\n",
      "Epoch 17/50\n",
      "483/483 [==============================] - 3s 6ms/step - loss: 0.5390 - accuracy: 0.7373 - val_loss: 530.8034 - val_accuracy: 0.4609\n",
      "Epoch 18/50\n",
      "483/483 [==============================] - 3s 6ms/step - loss: 0.5387 - accuracy: 0.7367 - val_loss: 12852.5693 - val_accuracy: 0.5391\n",
      "Epoch 19/50\n",
      "483/483 [==============================] - 3s 6ms/step - loss: 0.5379 - accuracy: 0.7378 - val_loss: 17434.1680 - val_accuracy: 0.5391\n",
      "Epoch 20/50\n",
      "483/483 [==============================] - 3s 6ms/step - loss: 0.5379 - accuracy: 0.7378 - val_loss: 7894.6997 - val_accuracy: 0.4609\n",
      "Epoch 21/50\n",
      "483/483 [==============================] - 3s 6ms/step - loss: 0.5374 - accuracy: 0.7374 - val_loss: 9303.9912 - val_accuracy: 0.5391\n",
      "Epoch 22/50\n",
      "483/483 [==============================] - 3s 6ms/step - loss: 0.5374 - accuracy: 0.7384 - val_loss: 203.7830 - val_accuracy: 0.4609\n",
      "Epoch 23/50\n",
      "483/483 [==============================] - 3s 6ms/step - loss: 0.5370 - accuracy: 0.7372 - val_loss: 18247.0645 - val_accuracy: 0.5391\n",
      "Epoch 24/50\n",
      "483/483 [==============================] - 3s 6ms/step - loss: 0.5370 - accuracy: 0.7377 - val_loss: 5893.2290 - val_accuracy: 0.5391\n",
      "Epoch 25/50\n",
      "483/483 [==============================] - 3s 6ms/step - loss: 0.5365 - accuracy: 0.7384 - val_loss: 7182.4102 - val_accuracy: 0.5391\n",
      "Epoch 26/50\n",
      "483/483 [==============================] - 3s 6ms/step - loss: 0.5365 - accuracy: 0.7382 - val_loss: 6718.7812 - val_accuracy: 0.5391\n",
      "Epoch 27/50\n",
      "483/483 [==============================] - 3s 6ms/step - loss: 0.5364 - accuracy: 0.7371 - val_loss: 9586.1768 - val_accuracy: 0.4609\n",
      "Epoch 28/50\n",
      "483/483 [==============================] - 3s 6ms/step - loss: 0.5358 - accuracy: 0.7387 - val_loss: 6450.7300 - val_accuracy: 0.4609\n",
      "Epoch 29/50\n",
      "483/483 [==============================] - 3s 6ms/step - loss: 0.5356 - accuracy: 0.7391 - val_loss: 4262.2412 - val_accuracy: 0.4609\n",
      "Epoch 30/50\n",
      "483/483 [==============================] - 3s 6ms/step - loss: 0.5355 - accuracy: 0.7383 - val_loss: 11011.5146 - val_accuracy: 0.4609\n",
      "Epoch 31/50\n",
      "483/483 [==============================] - 3s 6ms/step - loss: 0.5360 - accuracy: 0.7394 - val_loss: 4341.9453 - val_accuracy: 0.5391\n",
      "Epoch 32/50\n",
      "483/483 [==============================] - 3s 6ms/step - loss: 0.5352 - accuracy: 0.7388 - val_loss: 21392.6699 - val_accuracy: 0.5391\n",
      "Epoch 33/50\n",
      "483/483 [==============================] - 3s 6ms/step - loss: 0.5352 - accuracy: 0.7388 - val_loss: 5204.9058 - val_accuracy: 0.4609\n",
      "Epoch 34/50\n",
      "483/483 [==============================] - 3s 6ms/step - loss: 0.5352 - accuracy: 0.7392 - val_loss: 2810.0042 - val_accuracy: 0.5391\n",
      "Epoch 35/50\n",
      "483/483 [==============================] - 3s 6ms/step - loss: 0.5345 - accuracy: 0.7392 - val_loss: 2017.0557 - val_accuracy: 0.5391\n",
      "Epoch 36/50\n",
      "483/483 [==============================] - 3s 6ms/step - loss: 0.5348 - accuracy: 0.7379 - val_loss: 3849.9270 - val_accuracy: 0.5391\n",
      "Epoch 37/50\n",
      "483/483 [==============================] - 3s 6ms/step - loss: 0.5345 - accuracy: 0.7394 - val_loss: 3584.4985 - val_accuracy: 0.5391\n",
      "Epoch 38/50\n",
      "483/483 [==============================] - 3s 6ms/step - loss: 0.5342 - accuracy: 0.7390 - val_loss: 1091.1536 - val_accuracy: 0.5391\n",
      "Epoch 39/50\n",
      "483/483 [==============================] - 3s 6ms/step - loss: 0.5344 - accuracy: 0.7390 - val_loss: 14674.3877 - val_accuracy: 0.4609\n",
      "Epoch 40/50\n",
      "483/483 [==============================] - 3s 6ms/step - loss: 0.5341 - accuracy: 0.7400 - val_loss: 5223.3369 - val_accuracy: 0.4609\n",
      "Epoch 41/50\n",
      "483/483 [==============================] - 3s 6ms/step - loss: 0.5342 - accuracy: 0.7389 - val_loss: 5161.2725 - val_accuracy: 0.4609\n",
      "Epoch 42/50\n",
      "483/483 [==============================] - 3s 6ms/step - loss: 0.5334 - accuracy: 0.7400 - val_loss: 10785.5537 - val_accuracy: 0.4609\n"
     ]
    }
   ],
   "source": [
    "# Fit the model using 50 epochs and the training data\n",
    "model_A2= nn_A2.fit(X_train_scaled, y_train, epochs=50,\n",
    "               validation_data=(X_test, y_test),\n",
    "               validation_split=0.3, batch_size=64, verbose=True,\n",
    "               callbacks = [tf.keras.callbacks.EarlyStopping(patience=20)]\n",
    "              )"
   ]
  },
  {
   "cell_type": "code",
   "execution_count": 62,
   "metadata": {},
   "outputs": [
    {
     "data": {
      "image/png": "[encoded data removed]",
      "text/plain": [
       "<Figure size 640x480 with 1 Axes>"
      ]
     },
     "metadata": {},
     "output_type": "display_data"
    }
   ],
   "source": [
    "# Plot train vs test for first neural net\n",
    "plt.plot(model_A1.history['loss'])\n",
    "plt.plot(model_A1.history['val_loss'])\n",
    "plt.title(\"loss_function - alternative 1 model - Train Vs. Test\")\n",
    "plt.ylabel('Loss')\n",
    "plt.xlabel('Epoch')\n",
    "plt.legend(['train', 'test'],loc='upper right')\n",
    "plt.show()"
   ]
  },
  {
   "cell_type": "markdown",
   "metadata": {},
   "source": [
    "### Step 2: After finishing your models, display the accuracy scores achieved by each model, and compare the results."
   ]
  },
  {
   "cell_type": "code",
   "execution_count": null,
   "metadata": {},
   "outputs": [],
   "source": [
    "print(\"Original Model Results\")\n",
    "\n",
    "# Evaluate the model loss and accuracy metrics using the evaluate method and the test data\n",
    "model_loss, model_accuracy = # YOUR CODE HERE\n",
    "\n",
    "# Display the model loss and accuracy results\n",
    "print(f\"Loss: {model_loss}, Accuracy: {model_accuracy}\")"
   ]
  },
  {
   "cell_type": "code",
   "execution_count": null,
   "metadata": {},
   "outputs": [],
   "source": [
    "print(\"Alternative Model 1 Results\")\n",
    "\n",
    "# Evaluate the model loss and accuracy metrics using the evaluate method and the test data\n",
    "model_loss, model_accuracy =# YOUR CODE HERE\n",
    "\n",
    "# Display the model loss and accuracy results\n",
    "print(f\"Loss: {model_loss}, Accuracy: {model_accuracy}\")"
   ]
  },
  {
   "cell_type": "code",
   "execution_count": null,
   "metadata": {},
   "outputs": [],
   "source": [
    "print(\"Alternative Model 2 Results\")\n",
    "\n",
    "# Evaluate the model loss and accuracy metrics using the evaluate method and the test data\n",
    "model_loss, model_accuracy = # YOUR CODE HERE\n",
    "\n",
    "# Display the model loss and accuracy results\n",
    "print(f\"Loss: {model_loss}, Accuracy: {model_accuracy}\")"
   ]
  },
  {
   "cell_type": "markdown",
   "metadata": {},
   "source": [
    "### Step 3: Save each of your alternative models as an HDF5 file.\n"
   ]
  },
  {
   "cell_type": "code",
   "execution_count": null,
   "metadata": {},
   "outputs": [],
   "source": [
    "# Set the file path for the first alternative model\n",
    "file_path = # YOUR CODE HERE\n",
    "\n",
    "# Export your model to a HDF5 file\n",
    "# YOUR CODE HERE\n"
   ]
  },
  {
   "cell_type": "code",
   "execution_count": null,
   "metadata": {},
   "outputs": [],
   "source": [
    "# Set the file path for the second alternative model\n",
    "file_path = # YOUR CODE HERE\n",
    "\n",
    "# Export your model to a HDF5 file\n",
    "# YOUR CODE HERE\n"
   ]
  },
  {
   "cell_type": "code",
   "execution_count": null,
   "metadata": {},
   "outputs": [],
   "source": []
  },
  {
   "cell_type": "markdown",
   "metadata": {},
   "source": [
    "# Alternative Model X\n",
    "### Non-categorical feature with extremes/outlyers, 'ASK_AMT'"
   ]
  },
  {
   "cell_type": "code",
   "execution_count": null,
   "metadata": {},
   "outputs": [],
   "source": [
    "# Examine boxplot for feature value 'ASK_AMT'\n",
    "applicant_data_df['ASK_AMT'].plot(kind = 'box')"
   ]
  },
  {
   "cell_type": "code",
   "execution_count": null,
   "metadata": {},
   "outputs": [],
   "source": [
    "# Dropping ASK_AMT \n",
    "X_train_scaled = X_train_scaled[:, 0:-1]   # ASK_AMT is last feature\n",
    "X_test_scaled = X_test_scaled[:, 0:-1]\n",
    "\n",
    "# Checking the number of features\n",
    "display(X_train_scaled.shape)\n",
    "display(X_test_scaled.shape)"
   ]
  }
 ],
 "metadata": {
  "kernelspec": {
   "display_name": "Python 3 (ipykernel)",
   "language": "python",
   "name": "python3"
  },
  "language_info": {
   "codemirror_mode": {
    "name": "ipython",
    "version": 3
   },
   "file_extension": ".py",
   "mimetype": "text/x-python",
   "name": "python",
   "nbconvert_exporter": "python",
   "pygments_lexer": "ipython3",
   "version": "3.9.13"
  }
 },
 "nbformat": 4,
 "nbformat_minor": 4
}
